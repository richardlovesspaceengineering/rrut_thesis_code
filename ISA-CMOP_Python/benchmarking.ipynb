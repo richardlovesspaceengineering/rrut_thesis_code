{
 "cells": [
  {
   "cell_type": "code",
   "execution_count": 2,
   "metadata": {},
   "outputs": [],
   "source": [
    "%load_ext autoreload\n",
    "%autoreload 2\n",
    "\n",
    "from ProblemEvaluator import ProblemEvaluator\n",
    "import numpy as np\n",
    "from pymoo.problems import get_problem\n",
    "import matplotlib.pyplot as plt\n",
    "from optimisation.model.population import Population\n",
    "from features.RandomWalkAnalysis import RandomWalkAnalysis"
   ]
  },
  {
   "cell_type": "code",
   "execution_count": 9,
   "metadata": {},
   "outputs": [
    {
     "name": "stdout",
     "output_type": "stream",
     "text": [
      "Initialising evaluator in eval mode.\n",
      "Starting the creation process for population directories for problem: MW12_d3 in mode: eval\n",
      "Directory already exists and does not need to be created: test_pops\\MW12_d3\\eval\\global\n",
      "Directory already exists and does not need to be created: test_pops\\MW12_d3\\eval\\rw\n",
      "Population directories setup complete.\n",
      "Global population directory: test_pops\\MW12_d3\\eval\\global\n",
      "RW population directory: test_pops\\MW12_d3\\eval\\rw\n"
     ]
    }
   ],
   "source": [
    "# Flags for which feature set we want to test.\n",
    "sample_rw = True\n",
    "sample_aw = False\n",
    "\n",
    "# Example problem.\n",
    "num_samples = 1\n",
    "num_cores = 1\n",
    "n_var = 3\n",
    "problem_name = \"MW12\"\n",
    "problem = get_problem(problem_name, n_var)\n",
    "instance_string = f\"{problem_name}_d{n_var}\"\n",
    "\n",
    "# Generate evaluator which can generate RW samples and LHS samples.\n",
    "evaluator = ProblemEvaluator(\n",
    "    problem, instance_string, \"eval\", \"test_results\", num_cores\n",
    ")\n",
    "evaluator.initialize_number_of_cores(num_samples)\n",
    "pre_sampler = evaluator.create_pre_sampler(num_samples)\n",
    "pre_sampler.create_pregen_sample_dir()\n",
    "pre_sampler.create_pops_dir(instance_string, \"test_pops\")"
   ]
  },
  {
   "cell_type": "markdown",
   "metadata": {},
   "source": [
    "### Random Walk\n"
   ]
  },
  {
   "cell_type": "code",
   "execution_count": 4,
   "metadata": {},
   "outputs": [
    {
     "name": "stdout",
     "output_type": "stream",
     "text": [
      "Reading walk neighbours took 0.01 seconds.\n"
     ]
    }
   ],
   "source": [
    "sample_number = 1\n",
    "walk_number = 1\n",
    "\n",
    "import time  # Import the time module\n",
    "\n",
    "# Start timing for reading walk neighbours\n",
    "start_time = time.time()\n",
    "walk, neighbours = pre_sampler.read_walk_neighbours(sample_number, walk_number)\n",
    "end_time = time.time()\n",
    "print(f\"Reading walk neighbours took {end_time - start_time:.2f} seconds.\")\n",
    "\n",
    "# Start timing for generating walk neighbour populations"
   ]
  },
  {
   "cell_type": "code",
   "execution_count": 5,
   "metadata": {},
   "outputs": [
    {
     "name": "stdout",
     "output_type": "stream",
     "text": [
      "Generating walk neighbour populations took 41.50 seconds.\n"
     ]
    }
   ],
   "source": [
    "start_time = time.time()\n",
    "pop_walk, pop_neighbours_list = evaluator.generate_walk_neig_populations(\n",
    "    problem, walk, neighbours, True\n",
    ")\n",
    "end_time = time.time()\n",
    "print(\n",
    "    f\"Generating walk neighbour populations took {end_time - start_time:.2f} seconds.\"\n",
    ")"
   ]
  },
  {
   "cell_type": "code",
   "execution_count": 6,
   "metadata": {},
   "outputs": [
    {
     "name": "stdout",
     "output_type": "stream",
     "text": [
      "[2024-02-21 11:49:09] Saved walk population and individual neighbours for sample 1, walk 1 in test_pops\\MW12_d3\\eval\\rw\\sample1.\n",
      "Saving walk neighbour population (new method) took 0.36 seconds.\n"
     ]
    }
   ],
   "source": [
    "# Start timing for saving walk neighbour population\n",
    "start_time = time.time()\n",
    "pre_sampler.save_walk_neig_population(\n",
    "    pop_walk, pop_neighbours_list, sample_number, walk_number\n",
    ")\n",
    "end_time = time.time()\n",
    "print(\n",
    "    f\"Saving walk neighbour population (new method) took {end_time - start_time:.2f} seconds.\"\n",
    ")"
   ]
  },
  {
   "cell_type": "code",
   "execution_count": 7,
   "metadata": {},
   "outputs": [
    {
     "name": "stdout",
     "output_type": "stream",
     "text": [
      "[2024-02-21 11:49:10] Loaded walk and individual neighbours for sample 1, walk 1 from test_pops\\MW12_d3\\eval\\rw\\sample1.\n",
      "Loading walk neighbour population (new method) took 0.19 seconds.\n"
     ]
    }
   ],
   "source": [
    "# Attempt to use pre-generated samples.\n",
    "start_time = time.time()\n",
    "pop_walk, pop_neighbours_list = pre_sampler.load_walk_neig_population(\n",
    "    sample_number, walk_number\n",
    ")\n",
    "end_time = time.time()\n",
    "print(\n",
    "    f\"Loading walk neighbour population (new method) took {end_time - start_time:.2f} seconds.\"\n",
    ")"
   ]
  },
  {
   "cell_type": "markdown",
   "metadata": {},
   "source": [
    "#### Population Creation\n"
   ]
  },
  {
   "cell_type": "code",
   "execution_count": 10,
   "metadata": {},
   "outputs": [
    {
     "name": "stdout",
     "output_type": "stream",
     "text": [
      "[2024-02-21 11:51:13] Initialising normalisation computations for RW samples using 1 cores. This requires full evaluation of the entire sample set and may take some time while still being memory-efficient.\n"
     ]
    }
   ],
   "source": [
    "start_time = time.time()\n",
    "rw_norm_values = evaluator.compute_rw_normalisation_values(pre_sampler, problem)\n",
    "end_time = time.time()\n",
    "print(f\"Computing RW normalisation values took {end_time - start_time:.2f} seconds.\")"
   ]
  },
  {
   "cell_type": "markdown",
   "metadata": {},
   "source": [
    "#### Pre-processing of nans on walks\n"
   ]
  },
  {
   "cell_type": "code",
   "execution_count": null,
   "metadata": {},
   "outputs": [],
   "source": [
    "start_time = time.time()\n",
    "\n",
    "rw_analysis = RandomWalkAnalysis(pop_walk, pop_neighbours_list, rw_norm_values)\n",
    "\n",
    "end_time = time.time()\n",
    "print(f\"Computing RW normalisation values took {end_time - start_time:.2f} seconds.\")"
   ]
  },
  {
   "cell_type": "markdown",
   "metadata": {},
   "source": [
    "### Global\n"
   ]
  },
  {
   "cell_type": "code",
   "execution_count": 10,
   "metadata": {},
   "outputs": [
    {
     "name": "stdout",
     "output_type": "stream",
     "text": [
      "Total evaluation time: 47.82 seconds, Sample size: 10000\n",
      "Time to save with pickle: 0.12 seconds\n",
      "Time to save with numpy: 0.14 seconds\n"
     ]
    }
   ],
   "source": [
    "import time\n",
    "import pickle\n",
    "import numpy as np\n",
    "import os\n",
    "\n",
    "# Assuming pre_sampler, evaluator, and problem are already defined\n",
    "# and generate_global_population method returns pop_global as a numpy array or a list that can be converted to a numpy array\n",
    "\n",
    "# Generate distributed samples and evaluate populations on these samples.\n",
    "sample = pre_sampler.read_global_sample(5)\n",
    "start_time = time.time()\n",
    "pop_global = evaluator.generate_global_population(problem, sample, eval_fronts=False)\n",
    "end_time = time.time()\n",
    "\n",
    "evaluation_time = end_time - start_time  # Calculate total evaluation time in seconds\n",
    "print(\n",
    "    f\"Total evaluation time: {evaluation_time:.2f} seconds, Sample size: {len(pop_global)}\"\n",
    ")\n",
    "\n",
    "# Save with pickle\n",
    "pickle_start_time = time.time()\n",
    "with open(\"pop_global.pkl\", \"wb\") as file:\n",
    "    pickle.dump(pop_global, file)\n",
    "pickle_end_time = time.time()\n",
    "pickle_time = pickle_end_time - pickle_start_time\n",
    "\n",
    "# Save with numpy\n",
    "numpy_start_time = time.time()\n",
    "np.save(\"pop_global.npy\", pop_global)\n",
    "numpy_end_time = time.time()\n",
    "numpy_time = numpy_end_time - numpy_start_time\n",
    "\n",
    "print(f\"Time to save with pickle: {pickle_time:.2f} seconds\")\n",
    "print(f\"Time to save with numpy: {numpy_time:.2f} seconds\")"
   ]
  },
  {
   "cell_type": "code",
   "execution_count": 12,
   "metadata": {},
   "outputs": [
    {
     "name": "stdout",
     "output_type": "stream",
     "text": [
      "Time to read with pickle: 0.13 seconds\n"
     ]
    }
   ],
   "source": [
    "import time\n",
    "import pickle\n",
    "import numpy as np\n",
    "\n",
    "# Read with pickle\n",
    "pickle_read_start_time = time.time()\n",
    "with open(\"pop_global.pkl\", \"rb\") as file:\n",
    "    pop_global_pickle = pickle.load(file)\n",
    "pickle_read_end_time = time.time()\n",
    "pickle_read_time = pickle_read_end_time - pickle_read_start_time\n",
    "\n",
    "print(f\"Time to read with pickle: {pickle_read_time:.2f} seconds\")"
   ]
  },
  {
   "cell_type": "code",
   "execution_count": null,
   "metadata": {},
   "outputs": [
    {
     "name": "stdout",
     "output_type": "stream",
     "text": [
      "Computed IC features in 3.93 seconds. Sample size: 10000.\n"
     ]
    }
   ],
   "source": [
    "# IC features\n",
    "start_ic_time = time.time()\n",
    "\n",
    "# Compute IC features\n",
    "(H_max, eps_s, m0, eps05) = compute_ic_features(pop_global)\n",
    "\n",
    "# End time for computing IC features\n",
    "end_ic_time = time.time()\n",
    "\n",
    "# Calculate the computation time\n",
    "ic_computation_time = end_ic_time - start_ic_time\n",
    "\n",
    "# Get the size of pop_global\n",
    "sample_size = len(pop_global)\n",
    "\n",
    "# Print the descriptive message\n",
    "print(\n",
    "    f\"Computed IC features in {ic_computation_time:.2f} seconds. Sample size: {sample_size}.\"\n",
    ")"
   ]
  }
 ],
 "metadata": {
  "kernelspec": {
   "display_name": "thesis_env_windows",
   "language": "python",
   "name": "python3"
  },
  "language_info": {
   "codemirror_mode": {
    "name": "ipython",
    "version": 3
   },
   "file_extension": ".py",
   "mimetype": "text/x-python",
   "name": "python",
   "nbconvert_exporter": "python",
   "pygments_lexer": "ipython3",
   "version": "3.8.17"
  }
 },
 "nbformat": 4,
 "nbformat_minor": 2
}
