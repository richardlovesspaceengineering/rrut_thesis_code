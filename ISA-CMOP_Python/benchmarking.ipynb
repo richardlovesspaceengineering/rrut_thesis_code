{
 "cells": [
  {
   "cell_type": "code",
   "execution_count": 4,
   "metadata": {},
   "outputs": [
    {
     "name": "stdout",
     "output_type": "stream",
     "text": [
      "The autoreload extension is already loaded. To reload it, use:\n",
      "  %reload_ext autoreload\n"
     ]
    }
   ],
   "source": [
    "%load_ext autoreload\n",
    "%autoreload 2\n",
    "\n",
    "from ProblemEvaluator import ProblemEvaluator\n",
    "import numpy as np\n",
    "from pymoo.problems import get_problem\n",
    "import matplotlib.pyplot as plt\n",
    "from optimisation.model.population import Population\n",
    "from features.RandomWalkAnalysis import RandomWalkAnalysis\n",
    "from features.GlobalAnalysis import GlobalAnalysis\n",
    "import time"
   ]
  },
  {
   "cell_type": "code",
   "execution_count": 2,
   "metadata": {},
   "outputs": [
    {
     "name": "stdout",
     "output_type": "stream",
     "text": [
      "Initialising evaluator in eval mode.\n",
      "Starting the creation process for population directories for problem: MW11_d3 in mode: eval\n",
      "Directory already exists and does not need to be created: test_pops/MW11_d3/eval/global\n",
      "Directory already exists and does not need to be created: test_pops/MW11_d3/eval/rw\n",
      "Population directories setup complete.\n",
      "Global population directory: test_pops/MW11_d3/eval/global\n",
      "RW population directory: test_pops/MW11_d3/eval/rw\n"
     ]
    }
   ],
   "source": [
    "# Flags for which feature set we want to test.\n",
    "sample_rw = True\n",
    "sample_aw = False\n",
    "\n",
    "# Example problem.\n",
    "num_samples = 1\n",
    "num_cores = 1\n",
    "n_var = 3\n",
    "problem_name = \"MW11\"\n",
    "problem = get_problem(problem_name, n_var)\n",
    "instance_string = f\"{problem_name}_d{n_var}\"\n",
    "\n",
    "# Generate evaluator which can generate RW samples and LHS samples.\n",
    "evaluator = ProblemEvaluator(\n",
    "    problem, instance_string, \"eval\", \"test_results\", num_cores, num_samples\n",
    ")\n",
    "evaluator.initialize_number_of_cores()\n",
    "pre_sampler = evaluator.create_pre_sampler()\n",
    "pre_sampler.create_pregen_sample_dir()\n",
    "pre_sampler.create_pops_dir(instance_string, \"test_pops\")"
   ]
  },
  {
   "cell_type": "markdown",
   "metadata": {},
   "source": [
    "### Random Walk\n"
   ]
  },
  {
   "cell_type": "code",
   "execution_count": 43,
   "metadata": {},
   "outputs": [
    {
     "name": "stdout",
     "output_type": "stream",
     "text": [
      "Reading walk neighbours took 0.00 seconds.\n"
     ]
    }
   ],
   "source": [
    "sample_number = 1\n",
    "walk_number = 1\n",
    "\n",
    "import time  # Import the time module\n",
    "\n",
    "# Start timing for reading walk neighbours\n",
    "start_time = time.time()\n",
    "walk, neighbours = pre_sampler.read_walk_neighbours(sample_number, walk_number)\n",
    "end_time = time.time()\n",
    "print(f\"Reading walk neighbours took {end_time - start_time:.2f} seconds.\")\n",
    "\n",
    "# Start timing for generating walk neighbour populations"
   ]
  },
  {
   "cell_type": "code",
   "execution_count": 5,
   "metadata": {},
   "outputs": [
    {
     "name": "stdout",
     "output_type": "stream",
     "text": [
      "Generating walk neighbour populations took 4.56 seconds.\n"
     ]
    }
   ],
   "source": [
    "start_time = time.time()\n",
    "pop_walk, pop_neighbours_list = evaluator.generate_walk_neig_populations(\n",
    "    problem, walk, neighbours, True\n",
    ")\n",
    "end_time = time.time()\n",
    "print(\n",
    "    f\"Generating walk neighbour populations took {end_time - start_time:.2f} seconds.\"\n",
    ")"
   ]
  },
  {
   "cell_type": "code",
   "execution_count": 44,
   "metadata": {},
   "outputs": [
    {
     "ename": "NameError",
     "evalue": "name 'pop_walk' is not defined",
     "output_type": "error",
     "traceback": [
      "\u001b[0;31m---------------------------------------------------------------------------\u001b[0m",
      "\u001b[0;31mNameError\u001b[0m                                 Traceback (most recent call last)",
      "Cell \u001b[0;32mIn[44], line 4\u001b[0m\n\u001b[1;32m      1\u001b[0m \u001b[38;5;66;03m# Start timing for saving walk neighbour population\u001b[39;00m\n\u001b[1;32m      2\u001b[0m start_time \u001b[38;5;241m=\u001b[39m time\u001b[38;5;241m.\u001b[39mtime()\n\u001b[1;32m      3\u001b[0m pre_sampler\u001b[38;5;241m.\u001b[39msave_walk_neig_population(\n\u001b[0;32m----> 4\u001b[0m     \u001b[43mpop_walk\u001b[49m, pop_neighbours_list, sample_number, walk_number\n\u001b[1;32m      5\u001b[0m )\n\u001b[1;32m      6\u001b[0m end_time \u001b[38;5;241m=\u001b[39m time\u001b[38;5;241m.\u001b[39mtime()\n\u001b[1;32m      7\u001b[0m \u001b[38;5;28mprint\u001b[39m(\n\u001b[1;32m      8\u001b[0m     \u001b[38;5;124mf\u001b[39m\u001b[38;5;124m\"\u001b[39m\u001b[38;5;124mSaving walk neighbour population (new method) took \u001b[39m\u001b[38;5;132;01m{\u001b[39;00mend_time\u001b[38;5;250m \u001b[39m\u001b[38;5;241m-\u001b[39m\u001b[38;5;250m \u001b[39mstart_time\u001b[38;5;132;01m:\u001b[39;00m\u001b[38;5;124m.2f\u001b[39m\u001b[38;5;132;01m}\u001b[39;00m\u001b[38;5;124m seconds.\u001b[39m\u001b[38;5;124m\"\u001b[39m\n\u001b[1;32m      9\u001b[0m )\n",
      "\u001b[0;31mNameError\u001b[0m: name 'pop_walk' is not defined"
     ]
    }
   ],
   "source": [
    "# Start timing for saving walk neighbour population\n",
    "start_time = time.time()\n",
    "pre_sampler.save_walk_neig_population(\n",
    "    pop_walk, pop_neighbours_list, sample_number, walk_number\n",
    ")\n",
    "end_time = time.time()\n",
    "print(\n",
    "    f\"Saving walk neighbour population (new method) took {end_time - start_time:.2f} seconds.\"\n",
    ")"
   ]
  },
  {
   "cell_type": "code",
   "execution_count": 45,
   "metadata": {},
   "outputs": [
    {
     "name": "stdout",
     "output_type": "stream",
     "text": [
      "[2024-02-22 08:43:53] Loaded walk and individual neighbours for sample 1, walk 1 from test_pops/MW11_d3/eval/rw/sample1.\n",
      "Loading walk neighbour population (new method) took 0.32 seconds.\n"
     ]
    }
   ],
   "source": [
    "# Attempt to use pre-generated samples.\n",
    "start_time = time.time()\n",
    "pop_walk, pop_neighbours_list = pre_sampler.load_walk_neig_population(\n",
    "    sample_number, walk_number\n",
    ")\n",
    "end_time = time.time()\n",
    "print(\n",
    "    f\"Loading walk neighbour population (new method) took {end_time - start_time:.2f} seconds.\"\n",
    ")"
   ]
  },
  {
   "cell_type": "markdown",
   "metadata": {},
   "source": [
    "#### Analysis Object Creation\n"
   ]
  },
  {
   "cell_type": "code",
   "execution_count": 46,
   "metadata": {},
   "outputs": [
    {
     "name": "stdout",
     "output_type": "stream",
     "text": [
      "[2024-02-22 08:43:55] Initialising normalisation computations for RW samples using 1 cores. This requires full evaluation of the entire sample set and may take some time while still being memory-efficient.\n",
      "[2024-02-22 08:43:56] Loaded walk and individual neighbours for sample 1, walk 1 from test_pops/MW11_d3/eval/rw/sample1.\n",
      "[2024-02-22 08:43:56] Loaded walk and individual neighbours for sample 1, walk 2 from test_pops/MW11_d3/eval/rw/sample1.\n",
      "[2024-02-22 08:43:57] Loaded walk and individual neighbours for sample 1, walk 3 from test_pops/MW11_d3/eval/rw/sample1.\n",
      "[2024-02-22 08:43:57] Evaluated the normalisation values for this sample set in 1.95 seconds.\n",
      "\n"
     ]
    }
   ],
   "source": [
    "rw_norm_values = evaluator.compute_rw_normalisation_values(pre_sampler, problem)\n",
    "rw_analysis = RandomWalkAnalysis(\n",
    "    pop_walk, pop_neighbours_list, rw_norm_values, evaluator.results_dir\n",
    ")"
   ]
  },
  {
   "cell_type": "markdown",
   "metadata": {},
   "source": [
    "#### Running each step of RW feature eval\n"
   ]
  },
  {
   "cell_type": "code",
   "execution_count": 47,
   "metadata": {},
   "outputs": [
    {
     "name": "stdout",
     "output_type": "stream",
     "text": [
      "Preprocessing nans on walks took 0.28 seconds.\n"
     ]
    }
   ],
   "source": [
    "start_time = time.time()\n",
    "rw_analysis.preprocess_nans_on_walks()\n",
    "end_time = time.time()\n",
    "print(f\"Preprocessing nans on walks took {end_time - start_time:.2f} seconds.\")"
   ]
  },
  {
   "cell_type": "code",
   "execution_count": 48,
   "metadata": {},
   "outputs": [
    {
     "name": "stdout",
     "output_type": "stream",
     "text": [
      "RW solver features took 0.17 seconds.\n"
     ]
    }
   ],
   "source": [
    "# Timing each of the features eval\n",
    "start_time = time.time()\n",
    "_ = rw_analysis.compute_solver_related_features()\n",
    "end_time = time.time()\n",
    "print(f\"RW solver features took {end_time - start_time:.2f} seconds.\")"
   ]
  },
  {
   "cell_type": "code",
   "execution_count": 49,
   "metadata": {},
   "outputs": [
    {
     "name": "stdout",
     "output_type": "stream",
     "text": [
      "RW neighbourhood dist features took 0.20 seconds.\n"
     ]
    }
   ],
   "source": [
    "start_time = time.time()\n",
    "_ = rw_analysis.compute_neighbourhood_distance_features(norm_method=\"95th\")\n",
    "end_time = time.time()\n",
    "print(f\"RW neighbourhood dist features took {end_time - start_time:.2f} seconds.\")"
   ]
  },
  {
   "cell_type": "code",
   "execution_count": 50,
   "metadata": {},
   "outputs": [
    {
     "name": "stdout",
     "output_type": "stream",
     "text": [
      "RW uncons neighbourhood HV features took 0.22 seconds.\n"
     ]
    }
   ],
   "source": [
    "start_time = time.time()\n",
    "_ = rw_analysis.compute_uncons_neighbourhood_hv_features(norm_method=\"95th\")\n",
    "end_time = time.time()\n",
    "print(f\"RW uncons neighbourhood HV features took {end_time - start_time:.2f} seconds.\")"
   ]
  },
  {
   "cell_type": "code",
   "execution_count": 51,
   "metadata": {},
   "outputs": [
    {
     "name": "stdout",
     "output_type": "stream",
     "text": [
      "RW cons neighbourhood HV features took 0.05 seconds.\n"
     ]
    }
   ],
   "source": [
    "start_time = time.time()\n",
    "_ = rw_analysis.compute_cons_neighbourhood_hv_features(norm_method=\"95th\")\n",
    "end_time = time.time()\n",
    "print(f\"RW cons neighbourhood HV features took {end_time - start_time:.2f} seconds.\")"
   ]
  },
  {
   "cell_type": "code",
   "execution_count": 52,
   "metadata": {},
   "outputs": [
    {
     "name": "stdout",
     "output_type": "stream",
     "text": [
      "RW neighbourhood violation features took 0.20 seconds.\n"
     ]
    }
   ],
   "source": [
    "start_time = time.time()\n",
    "_ = rw_analysis.compute_neighbourhood_violation_features(norm_method=\"95th\")\n",
    "end_time = time.time()\n",
    "print(f\"RW neighbourhood violation features took {end_time - start_time:.2f} seconds.\")"
   ]
  },
  {
   "cell_type": "code",
   "execution_count": 53,
   "metadata": {},
   "outputs": [
    {
     "name": "stdout",
     "output_type": "stream",
     "text": [
      "RW neighbourhood dominance features took 0.41 seconds.\n"
     ]
    }
   ],
   "source": [
    "start_time = time.time()\n",
    "_ = rw_analysis.compute_neighbourhood_dominance_features()\n",
    "end_time = time.time()\n",
    "print(f\"RW neighbourhood dominance features took {end_time - start_time:.2f} seconds.\")"
   ]
  },
  {
   "cell_type": "code",
   "execution_count": 54,
   "metadata": {},
   "outputs": [
    {
     "name": "stdout",
     "output_type": "stream",
     "text": [
      "RW IC features took 0.27 seconds.\n"
     ]
    }
   ],
   "source": [
    "start_time = time.time()\n",
    "_ = GlobalAnalysis.compute_ic_features(rw_analysis.pop_walk, sample_type=\"rw\")\n",
    "end_time = time.time()\n",
    "print(f\"RW IC features took {end_time - start_time:.2f} seconds.\")"
   ]
  },
  {
   "cell_type": "markdown",
   "metadata": {},
   "source": [
    "### Global\n"
   ]
  },
  {
   "cell_type": "code",
   "execution_count": 5,
   "metadata": {},
   "outputs": [
    {
     "name": "stdout",
     "output_type": "stream",
     "text": [
      "Global sample size for 3d, no. 1: 3000\n",
      "Reading global sample took 0.00 seconds.\n"
     ]
    }
   ],
   "source": [
    "sample_number = 1\n",
    "# Start timing for reading walk neighbours\n",
    "start_time = time.time()\n",
    "global_sample = pre_sampler.read_global_sample(sample_number)\n",
    "end_time = time.time()\n",
    "print(f\"Reading global sample took {end_time - start_time:.2f} seconds.\")"
   ]
  },
  {
   "cell_type": "code",
   "execution_count": 6,
   "metadata": {},
   "outputs": [
    {
     "name": "stdout",
     "output_type": "stream",
     "text": [
      "Generating global populations took 25.53 seconds.\n"
     ]
    }
   ],
   "source": [
    "start_time = time.time()\n",
    "pop_global = evaluator.generate_global_population(problem, global_sample, True)\n",
    "end_time = time.time()\n",
    "print(f\"Generating global populations took {end_time - start_time:.2f} seconds.\")"
   ]
  },
  {
   "cell_type": "code",
   "execution_count": 7,
   "metadata": {},
   "outputs": [
    {
     "name": "stdout",
     "output_type": "stream",
     "text": [
      "Saving global population (new method) took 0.12 seconds.\n"
     ]
    }
   ],
   "source": [
    "# Start timing for saving walk neighbour population\n",
    "start_time = time.time()\n",
    "pre_sampler.save_global_population(pop_global, sample_number)\n",
    "end_time = time.time()\n",
    "print(\n",
    "    f\"Saving global population (new method) took {end_time - start_time:.2f} seconds.\"\n",
    ")"
   ]
  },
  {
   "cell_type": "code",
   "execution_count": 8,
   "metadata": {},
   "outputs": [
    {
     "name": "stdout",
     "output_type": "stream",
     "text": [
      "[2024-02-22 08:37:03] Global population for sample 1 loaded from test_pops/MW11_d3/eval/global/pop_global_1.pkl. Length: 3000\n",
      "Loading global population (new method) took 0.04 seconds.\n"
     ]
    }
   ],
   "source": [
    "# Attempt to use pre-generated samples.\n",
    "start_time = time.time()\n",
    "pop_global = pre_sampler.load_global_population(sample_number)\n",
    "end_time = time.time()\n",
    "print(\n",
    "    f\"Loading global population (new method) took {end_time - start_time:.2f} seconds.\"\n",
    ")"
   ]
  },
  {
   "cell_type": "markdown",
   "metadata": {},
   "source": [
    "#### Analysis Object Creation\n"
   ]
  },
  {
   "cell_type": "code",
   "execution_count": 9,
   "metadata": {},
   "outputs": [
    {
     "name": "stdout",
     "output_type": "stream",
     "text": [
      "[2024-02-22 08:37:03] Initialising normalisation computations for global samples with 1 processes. This requires full evaluation of the entire sample set and may take some time while still being memory-efficient.\n"
     ]
    },
    {
     "name": "stdout",
     "output_type": "stream",
     "text": [
      "[2024-02-22 08:37:04] Global population for sample 1 loaded from test_pops/MW11_d3/eval/global/pop_global_1.pkl. Length: 3000\n",
      "[2024-02-22 08:37:04] Evaluated the normalisation values for this sample set in 1.19 seconds.\n",
      "\n"
     ]
    }
   ],
   "source": [
    "global_norm_values = evaluator.compute_global_normalisation_values(pre_sampler, problem)\n",
    "global_analysis = GlobalAnalysis(pop_global, global_norm_values, evaluator.results_dir)"
   ]
  },
  {
   "cell_type": "code",
   "execution_count": 27,
   "metadata": {},
   "outputs": [
    {
     "name": "stdout",
     "output_type": "stream",
     "text": [
      "(3000, 3)\n",
      "(3000, 2)\n",
      "(3000,)\n",
      "(3000,)\n",
      "(3000, 1)\n",
      "(3000, 4)\n"
     ]
    }
   ],
   "source": [
    "print(global_analysis.pop.extract_var().shape)\n",
    "print(global_analysis.pop.extract_obj().shape)\n",
    "print(global_analysis.pop.extract_rank().shape)\n",
    "print(global_analysis.pop.extract_uncons_rank().shape)\n",
    "print(global_analysis.pop.extract_cv().shape)\n",
    "print(global_analysis.pop.extract_cons().shape)"
   ]
  },
  {
   "cell_type": "markdown",
   "metadata": {},
   "source": [
    "#### Running each step of Global feature eval\n"
   ]
  },
  {
   "cell_type": "code",
   "execution_count": null,
   "metadata": {},
   "outputs": [],
   "source": [
    "from features.Analysis import Analysis\n",
    "\n",
    "global_analysis.pop = global_analysis.pop.remove_nan_inf_rows(\n",
    "    \"global\", re_evaluate=True\n",
    ")"
   ]
  },
  {
   "cell_type": "code",
   "execution_count": 28,
   "metadata": {},
   "outputs": [
    {
     "name": "stdout",
     "output_type": "stream",
     "text": [
      "Global feasibility features took 0.00 seconds.\n"
     ]
    }
   ],
   "source": [
    "start_time = time.time()\n",
    "_ = global_analysis.compute_fsr()\n",
    "end_time = time.time()\n",
    "print(f\"Global feasibility features took {end_time - start_time:.2f} seconds.\")"
   ]
  },
  {
   "cell_type": "code",
   "execution_count": 29,
   "metadata": {},
   "outputs": [
    {
     "name": "stdout",
     "output_type": "stream",
     "text": [
      "Global obj corr features took 0.01 seconds.\n"
     ]
    }
   ],
   "source": [
    "start_time = time.time()\n",
    "_ = global_analysis.corr_obj()\n",
    "end_time = time.time()\n",
    "print(f\"Global obj corr features took {end_time - start_time:.2f} seconds.\")"
   ]
  },
  {
   "cell_type": "code",
   "execution_count": 30,
   "metadata": {},
   "outputs": [
    {
     "name": "stdout",
     "output_type": "stream",
     "text": [
      "Global obj skew, kurtosis features took 0.02 seconds.\n"
     ]
    }
   ],
   "source": [
    "start_time = time.time()\n",
    "_ = global_analysis.obj_kurt()\n",
    "_ = global_analysis.obj_skew()\n",
    "end_time = time.time()\n",
    "print(f\"Global obj skew, kurtosis features took {end_time - start_time:.2f} seconds.\")"
   ]
  },
  {
   "cell_type": "code",
   "execution_count": 31,
   "metadata": {},
   "outputs": [
    {
     "name": "stdout",
     "output_type": "stream",
     "text": [
      "Global uc rk distr features took 0.00 seconds.\n"
     ]
    }
   ],
   "source": [
    "start_time = time.time()\n",
    "_ = global_analysis.uc_rk_distr()\n",
    "end_time = time.time()\n",
    "print(f\"Global uc rk distr features took {end_time - start_time:.2f} seconds.\")"
   ]
  },
  {
   "cell_type": "code",
   "execution_count": 32,
   "metadata": {},
   "outputs": [
    {
     "name": "stdout",
     "output_type": "stream",
     "text": [
      "Global cv distr features took 0.00 seconds.\n"
     ]
    }
   ],
   "source": [
    "start_time = time.time()\n",
    "_ = global_analysis.cv_distr(norm_method=\"95th\")\n",
    "end_time = time.time()\n",
    "print(f\"Global cv distr features took {end_time - start_time:.2f} seconds.\")"
   ]
  },
  {
   "cell_type": "code",
   "execution_count": 33,
   "metadata": {},
   "outputs": [
    {
     "name": "stdout",
     "output_type": "stream",
     "text": [
      "Global ideal zone features took 0.02 seconds.\n"
     ]
    }
   ],
   "source": [
    "start_time = time.time()\n",
    "_ = global_analysis.PiIZ()\n",
    "end_time = time.time()\n",
    "print(f\"Global ideal zone features took {end_time - start_time:.2f} seconds.\")"
   ]
  },
  {
   "cell_type": "code",
   "execution_count": 34,
   "metadata": {},
   "outputs": [
    {
     "name": "stdout",
     "output_type": "stream",
     "text": [
      "Global PS PF distance features took 0.06 seconds.\n"
     ]
    }
   ],
   "source": [
    "start_time = time.time()\n",
    "_ = global_analysis.compute_ps_pf_distances(norm_method=\"95th\")\n",
    "end_time = time.time()\n",
    "print(f\"Global PS PF distance features took {end_time - start_time:.2f} seconds.\")"
   ]
  },
  {
   "cell_type": "code",
   "execution_count": 35,
   "metadata": {},
   "outputs": [
    {
     "name": "stdout",
     "output_type": "stream",
     "text": [
      "Global PF UPF features took 0.04 seconds.\n"
     ]
    }
   ],
   "source": [
    "start_time = time.time()\n",
    "_ = global_analysis.compute_PF_UPF_features(norm_method=\"95th\")\n",
    "end_time = time.time()\n",
    "print(f\"Global PF UPF features took {end_time - start_time:.2f} seconds.\")"
   ]
  },
  {
   "cell_type": "code",
   "execution_count": 36,
   "metadata": {},
   "outputs": [
    {
     "name": "stdout",
     "output_type": "stream",
     "text": [
      "Global dist corr features took 0.01 seconds.\n"
     ]
    }
   ],
   "source": [
    "start_time = time.time()\n",
    "_ = global_analysis.dist_corr()\n",
    "end_time = time.time()\n",
    "print(f\"Global dist corr features took {end_time - start_time:.2f} seconds.\")"
   ]
  },
  {
   "cell_type": "code",
   "execution_count": 37,
   "metadata": {},
   "outputs": [
    {
     "name": "stdout",
     "output_type": "stream",
     "text": [
      "Global ranks cv corr features took 0.01 seconds.\n"
     ]
    }
   ],
   "source": [
    "start_time = time.time()\n",
    "_ = global_analysis.compute_ranks_cv_corr()\n",
    "end_time = time.time()\n",
    "print(f\"Global ranks cv corr features took {end_time - start_time:.2f} seconds.\")"
   ]
  },
  {
   "cell_type": "code",
   "execution_count": 38,
   "metadata": {},
   "outputs": [
    {
     "name": "stdout",
     "output_type": "stream",
     "text": [
      "Global rk uc var mdl features took 0.01 seconds.\n"
     ]
    }
   ],
   "source": [
    "start_time = time.time()\n",
    "_ = global_analysis.rk_uc_var_mdl()\n",
    "end_time = time.time()\n",
    "print(f\"Global rk uc var mdl features took {end_time - start_time:.2f} seconds.\")"
   ]
  },
  {
   "cell_type": "code",
   "execution_count": 39,
   "metadata": {},
   "outputs": [
    {
     "name": "stdout",
     "output_type": "stream",
     "text": [
      "Global cv var mdl features took 0.00 seconds.\n"
     ]
    }
   ],
   "source": [
    "start_time = time.time()\n",
    "_ = global_analysis.cv_var_mdl()\n",
    "end_time = time.time()\n",
    "print(f\"Global cv var mdl features took {end_time - start_time:.2f} seconds.\")"
   ]
  },
  {
   "cell_type": "code",
   "execution_count": 40,
   "metadata": {},
   "outputs": [
    {
     "name": "stdout",
     "output_type": "stream",
     "text": [
      "Global IC features took 1.05 seconds.\n"
     ]
    }
   ],
   "source": [
    "start_time = time.time()\n",
    "_ = GlobalAnalysis.compute_ic_features(global_analysis.pop, sample_type=\"global\")\n",
    "end_time = time.time()\n",
    "print(f\"Global IC features took {end_time - start_time:.2f} seconds.\")"
   ]
  },
  {
   "cell_type": "code",
   "execution_count": 10,
   "metadata": {},
   "outputs": [
    {
     "name": "stdout",
     "output_type": "stream",
     "text": [
      "Total evaluation time: 47.82 seconds, Sample size: 10000\n",
      "Time to save with pickle: 0.12 seconds\n",
      "Time to save with numpy: 0.14 seconds\n"
     ]
    }
   ],
   "source": [
    "import time\n",
    "import pickle\n",
    "import numpy as np\n",
    "import os\n",
    "\n",
    "# Assuming pre_sampler, evaluator, and problem are already defined\n",
    "# and generate_global_population method returns pop_global as a numpy array or a list that can be converted to a numpy array\n",
    "\n",
    "# Generate distributed samples and evaluate populations on these samples.\n",
    "sample = pre_sampler.read_global_sample(5)\n",
    "start_time = time.time()\n",
    "pop_global = evaluator.generate_global_population(problem, sample, eval_fronts=False)\n",
    "end_time = time.time()\n",
    "\n",
    "evaluation_time = end_time - start_time  # Calculate total evaluation time in seconds\n",
    "print(\n",
    "    f\"Total evaluation time: {evaluation_time:.2f} seconds, Sample size: {len(pop_global)}\"\n",
    ")\n",
    "\n",
    "# Save with pickle\n",
    "pickle_start_time = time.time()\n",
    "with open(\"pop_global.pkl\", \"wb\") as file:\n",
    "    pickle.dump(pop_global, file)\n",
    "pickle_end_time = time.time()\n",
    "pickle_time = pickle_end_time - pickle_start_time\n",
    "\n",
    "# Save with numpy\n",
    "numpy_start_time = time.time()\n",
    "np.save(\"pop_global.npy\", pop_global)\n",
    "numpy_end_time = time.time()\n",
    "numpy_time = numpy_end_time - numpy_start_time\n",
    "\n",
    "print(f\"Time to save with pickle: {pickle_time:.2f} seconds\")\n",
    "print(f\"Time to save with numpy: {numpy_time:.2f} seconds\")"
   ]
  },
  {
   "cell_type": "code",
   "execution_count": 12,
   "metadata": {},
   "outputs": [
    {
     "name": "stdout",
     "output_type": "stream",
     "text": [
      "Time to read with pickle: 0.13 seconds\n"
     ]
    }
   ],
   "source": [
    "import time\n",
    "import pickle\n",
    "import numpy as np\n",
    "\n",
    "# Read with pickle\n",
    "pickle_read_start_time = time.time()\n",
    "with open(\"pop_global.pkl\", \"rb\") as file:\n",
    "    pop_global_pickle = pickle.load(file)\n",
    "pickle_read_end_time = time.time()\n",
    "pickle_read_time = pickle_read_end_time - pickle_read_start_time\n",
    "\n",
    "print(f\"Time to read with pickle: {pickle_read_time:.2f} seconds\")"
   ]
  },
  {
   "cell_type": "code",
   "execution_count": null,
   "metadata": {},
   "outputs": [
    {
     "name": "stdout",
     "output_type": "stream",
     "text": [
      "Computed IC features in 3.93 seconds. Sample size: 10000.\n"
     ]
    }
   ],
   "source": [
    "# IC features\n",
    "start_ic_time = time.time()\n",
    "\n",
    "# Compute IC features\n",
    "(H_max, eps_s, m0, eps05) = compute_ic_features(pop_global)\n",
    "\n",
    "# End time for computing IC features\n",
    "end_ic_time = time.time()\n",
    "\n",
    "# Calculate the computation time\n",
    "ic_computation_time = end_ic_time - start_ic_time\n",
    "\n",
    "# Get the size of pop_global\n",
    "sample_size = len(pop_global)\n",
    "\n",
    "# Print the descriptive message\n",
    "print(\n",
    "    f\"Computed IC features in {ic_computation_time:.2f} seconds. Sample size: {sample_size}.\"\n",
    ")"
   ]
  }
 ],
 "metadata": {
  "kernelspec": {
   "display_name": "thesis_env_windows",
   "language": "python",
   "name": "python3"
  },
  "language_info": {
   "codemirror_mode": {
    "name": "ipython",
    "version": 3
   },
   "file_extension": ".py",
   "mimetype": "text/x-python",
   "name": "python",
   "nbconvert_exporter": "python",
   "pygments_lexer": "ipython3",
   "version": "3.8.17"
  }
 },
 "nbformat": 4,
 "nbformat_minor": 2
}
