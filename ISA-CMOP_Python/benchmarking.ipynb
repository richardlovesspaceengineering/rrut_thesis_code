{
 "cells": [
  {
   "cell_type": "code",
   "execution_count": 8,
   "metadata": {},
   "outputs": [
    {
     "name": "stdout",
     "output_type": "stream",
     "text": [
      "The autoreload extension is already loaded. To reload it, use:\n",
      "  %reload_ext autoreload\n"
     ]
    }
   ],
   "source": [
    "%load_ext autoreload\n",
    "%autoreload 2\n",
    "\n",
    "from ProblemEvaluator import ProblemEvaluator\n",
    "import numpy as np\n",
    "from pymoo.problems import get_problem\n",
    "import matplotlib.pyplot as plt\n",
    "from optimisation.model.population import Population\n",
    "from features.globalfeatures import *"
   ]
  },
  {
   "cell_type": "code",
   "execution_count": 9,
   "metadata": {},
   "outputs": [
    {
     "name": "stdout",
     "output_type": "stream",
     "text": [
      "Initialising evaluator in eval mode.\n",
      "Directories created or refreshed:\n",
      "Global: ../evaluated_pops\\MW12_d10\\eval\\global\n",
      "RW: ../evaluated_pops\\MW12_d10\\eval\\rw\n"
     ]
    }
   ],
   "source": [
    "# Flags for which feature set we want to test.\n",
    "sample_rw = True\n",
    "sample_aw = False\n",
    "\n",
    "# Example problem.\n",
    "num_samples = 2\n",
    "n_var = 10\n",
    "problem_name = \"MW12\"\n",
    "problem = get_problem(problem_name, n_var)\n",
    "instance_string = f\"{problem_name}_d{n_var}\"\n",
    "\n",
    "# Generate evaluator which can generate RW samples and LHS samples.\n",
    "evaluator = ProblemEvaluator(problem, instance_string, \"eval\", \"test_results\", 1)\n",
    "pre_sampler = evaluator.create_pre_sampler(num_samples)\n",
    "pre_sampler.create_pregen_sample_dir()\n",
    "pre_sampler.create_pops_dir(instance_string)"
   ]
  },
  {
   "cell_type": "code",
   "execution_count": 10,
   "metadata": {},
   "outputs": [
    {
     "name": "stdout",
     "output_type": "stream",
     "text": [
      "Total evaluation time: 47.82 seconds, Sample size: 10000\n",
      "Time to save with pickle: 0.12 seconds\n",
      "Time to save with numpy: 0.14 seconds\n"
     ]
    }
   ],
   "source": [
    "import time\n",
    "import pickle\n",
    "import numpy as np\n",
    "import os\n",
    "\n",
    "# Assuming pre_sampler, evaluator, and problem are already defined\n",
    "# and generate_global_population method returns pop_global as a numpy array or a list that can be converted to a numpy array\n",
    "\n",
    "# Generate distributed samples and evaluate populations on these samples.\n",
    "sample = pre_sampler.read_global_sample(5)\n",
    "start_time = time.time()\n",
    "pop_global = evaluator.generate_global_population(\n",
    "    problem, sample, eval_fronts=False\n",
    ")\n",
    "end_time = time.time()\n",
    "\n",
    "evaluation_time = end_time - start_time  # Calculate total evaluation time in seconds\n",
    "print(f\"Total evaluation time: {evaluation_time:.2f} seconds, Sample size: {len(pop_global)}\")\n",
    "\n",
    "# Save with pickle\n",
    "pickle_start_time = time.time()\n",
    "with open(\"pop_global.pkl\", \"wb\") as file:\n",
    "    pickle.dump(pop_global, file)\n",
    "pickle_end_time = time.time()\n",
    "pickle_time = pickle_end_time - pickle_start_time\n",
    "\n",
    "# Save with numpy\n",
    "numpy_start_time = time.time()\n",
    "np.save(\"pop_global.npy\", pop_global)\n",
    "numpy_end_time = time.time()\n",
    "numpy_time = numpy_end_time - numpy_start_time\n",
    "\n",
    "print(f\"Time to save with pickle: {pickle_time:.2f} seconds\")\n",
    "print(f\"Time to save with numpy: {numpy_time:.2f} seconds\")\n"
   ]
  },
  {
   "cell_type": "code",
   "execution_count": 12,
   "metadata": {},
   "outputs": [
    {
     "name": "stdout",
     "output_type": "stream",
     "text": [
      "Time to read with pickle: 0.13 seconds\n"
     ]
    }
   ],
   "source": [
    "import time\n",
    "import pickle\n",
    "import numpy as np\n",
    "\n",
    "# Read with pickle\n",
    "pickle_read_start_time = time.time()\n",
    "with open(\"pop_global.pkl\", \"rb\") as file:\n",
    "    pop_global_pickle = pickle.load(file)\n",
    "pickle_read_end_time = time.time()\n",
    "pickle_read_time = pickle_read_end_time - pickle_read_start_time\n",
    "\n",
    "print(f\"Time to read with pickle: {pickle_read_time:.2f} seconds\")\n"
   ]
  },
  {
   "cell_type": "code",
   "execution_count": null,
   "metadata": {},
   "outputs": [
    {
     "name": "stdout",
     "output_type": "stream",
     "text": [
      "Computed IC features in 3.93 seconds. Sample size: 10000.\n"
     ]
    }
   ],
   "source": [
    "# IC features\n",
    "start_ic_time = time.time()\n",
    "\n",
    "# Compute IC features\n",
    "(H_max, eps_s, m0, eps05) = compute_ic_features(pop_global)\n",
    "\n",
    "# End time for computing IC features\n",
    "end_ic_time = time.time()\n",
    "\n",
    "# Calculate the computation time\n",
    "ic_computation_time = end_ic_time - start_ic_time\n",
    "\n",
    "# Get the size of pop_global\n",
    "sample_size = len(pop_global)\n",
    "\n",
    "# Print the descriptive message\n",
    "print(f\"Computed IC features in {ic_computation_time:.2f} seconds. Sample size: {sample_size}.\")"
   ]
  }
 ],
 "metadata": {
  "kernelspec": {
   "display_name": "thesis_env_windows",
   "language": "python",
   "name": "python3"
  },
  "language_info": {
   "codemirror_mode": {
    "name": "ipython",
    "version": 3
   },
   "file_extension": ".py",
   "mimetype": "text/x-python",
   "name": "python",
   "nbconvert_exporter": "python",
   "pygments_lexer": "ipython3",
   "version": "3.8.17"
  }
 },
 "nbformat": 4,
 "nbformat_minor": 2
}
