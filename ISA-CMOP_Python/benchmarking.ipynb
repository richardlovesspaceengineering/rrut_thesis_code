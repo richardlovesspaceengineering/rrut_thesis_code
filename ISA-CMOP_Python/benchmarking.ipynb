{
 "cells": [
  {
   "cell_type": "code",
   "execution_count": 1,
   "metadata": {},
   "outputs": [],
   "source": [
    "%load_ext autoreload\n",
    "%autoreload 2\n",
    "\n",
    "from ProblemEvaluator import ProblemEvaluator\n",
    "import numpy as np\n",
    "from pymoo.problems import get_problem\n",
    "import matplotlib.pyplot as plt\n",
    "from optimisation.model.population import Population\n",
    "from features.RandomWalkAnalysis import RandomWalkAnalysis\n",
    "from features.GlobalAnalysis import GlobalAnalysis"
   ]
  },
  {
   "cell_type": "code",
   "execution_count": 5,
   "metadata": {},
   "outputs": [
    {
     "name": "stdout",
     "output_type": "stream",
     "text": [
      "Initialising evaluator in debug mode.\n",
      "Starting the creation process for population directories for problem: MW12_d3 in mode: debug\n",
      "Directory does not exist and will be created: test_pops/MW12_d3/debug/global\n",
      "Directory created: test_pops/MW12_d3/debug/global\n",
      "Directory does not exist and will be created: test_pops/MW12_d3/debug/rw\n",
      "Directory created: test_pops/MW12_d3/debug/rw\n",
      "Population directories setup complete.\n",
      "Global population directory: test_pops/MW12_d3/debug/global\n",
      "RW population directory: test_pops/MW12_d3/debug/rw\n"
     ]
    }
   ],
   "source": [
    "# Flags for which feature set we want to test.\n",
    "sample_rw = True\n",
    "sample_aw = False\n",
    "\n",
    "# Example problem.\n",
    "num_samples = 1\n",
    "num_cores = 1\n",
    "n_var = 3\n",
    "problem_name = \"MW12\"\n",
    "problem = get_problem(problem_name, n_var)\n",
    "instance_string = f\"{problem_name}_d{n_var}\"\n",
    "\n",
    "# Generate evaluator which can generate RW samples and LHS samples.\n",
    "evaluator = ProblemEvaluator(\n",
    "    problem, instance_string, \"eval\", \"test_results\", num_cores, num_samples\n",
    ")\n",
    "evaluator.initialize_number_of_cores()\n",
    "pre_sampler = evaluator.create_pre_sampler()\n",
    "pre_sampler.create_pregen_sample_dir()\n",
    "pre_sampler.create_pops_dir(instance_string, \"test_pops\")"
   ]
  },
  {
   "cell_type": "markdown",
   "metadata": {},
   "source": [
    "### Random Walk\n"
   ]
  },
  {
   "cell_type": "code",
   "execution_count": 6,
   "metadata": {},
   "outputs": [
    {
     "name": "stdout",
     "output_type": "stream",
     "text": [
      "RW sample no. 1 / walk no. 1 does not exist. Generating...\n",
      "Generated RW 1 of 3 (for this sample).\n",
      "Reading walk neighbours took 0.00 seconds.\n"
     ]
    }
   ],
   "source": [
    "sample_number = 1\n",
    "walk_number = 1\n",
    "\n",
    "import time  # Import the time module\n",
    "\n",
    "# Start timing for reading walk neighbours\n",
    "start_time = time.time()\n",
    "walk, neighbours = pre_sampler.read_walk_neighbours(sample_number, walk_number)\n",
    "end_time = time.time()\n",
    "print(f\"Reading walk neighbours took {end_time - start_time:.2f} seconds.\")\n",
    "\n",
    "# Start timing for generating walk neighbour populations"
   ]
  },
  {
   "cell_type": "code",
   "execution_count": 7,
   "metadata": {},
   "outputs": [
    {
     "name": "stdout",
     "output_type": "stream",
     "text": [
      "Generating walk neighbour populations took 0.85 seconds.\n"
     ]
    }
   ],
   "source": [
    "start_time = time.time()\n",
    "pop_walk, pop_neighbours_list = evaluator.generate_walk_neig_populations(\n",
    "    problem, walk, neighbours, True\n",
    ")\n",
    "end_time = time.time()\n",
    "print(\n",
    "    f\"Generating walk neighbour populations took {end_time - start_time:.2f} seconds.\"\n",
    ")"
   ]
  },
  {
   "cell_type": "code",
   "execution_count": 8,
   "metadata": {},
   "outputs": [
    {
     "name": "stdout",
     "output_type": "stream",
     "text": [
      "[2024-02-21 13:14:21] Saved walk population and individual neighbours for sample 1, walk 1 in test_pops/MW12_d3/debug/rw/sample1.\n",
      "Saving walk neighbour population (new method) took 0.01 seconds.\n"
     ]
    }
   ],
   "source": [
    "# Start timing for saving walk neighbour population\n",
    "start_time = time.time()\n",
    "pre_sampler.save_walk_neig_population(\n",
    "    pop_walk, pop_neighbours_list, sample_number, walk_number\n",
    ")\n",
    "end_time = time.time()\n",
    "print(\n",
    "    f\"Saving walk neighbour population (new method) took {end_time - start_time:.2f} seconds.\"\n",
    ")"
   ]
  },
  {
   "cell_type": "code",
   "execution_count": 25,
   "metadata": {},
   "outputs": [
    {
     "name": "stdout",
     "output_type": "stream",
     "text": [
      "[2024-02-21 12:08:25] Loaded walk and individual neighbours for sample 1, walk 1 from test_pops\\MW12_d3\\eval\\rw\\sample1.\n",
      "Loading walk neighbour population (new method) took 0.17 seconds.\n"
     ]
    }
   ],
   "source": [
    "# Attempt to use pre-generated samples.\n",
    "start_time = time.time()\n",
    "pop_walk, pop_neighbours_list = pre_sampler.load_walk_neig_population(\n",
    "    sample_number, walk_number\n",
    ")\n",
    "end_time = time.time()\n",
    "print(\n",
    "    f\"Loading walk neighbour population (new method) took {end_time - start_time:.2f} seconds.\"\n",
    ")"
   ]
  },
  {
   "cell_type": "markdown",
   "metadata": {},
   "source": [
    "#### Analysis Object Creation\n"
   ]
  },
  {
   "cell_type": "code",
   "execution_count": 9,
   "metadata": {},
   "outputs": [
    {
     "name": "stdout",
     "output_type": "stream",
     "text": [
      "[2024-02-21 13:14:26] Initialising normalisation computations for RW samples using 1 cores. This requires full evaluation of the entire sample set and may take some time while still being memory-efficient.\n",
      "[2024-02-21 13:14:27] Loaded walk and individual neighbours for sample 1, walk 1 from test_pops/MW12_d3/debug/rw/sample1.\n",
      "Generating RW population for sample 1, walk 2 as it was not found.\n",
      "RW sample no. 1 / walk no. 2 does not exist. Generating...\n",
      "Generated RW 2 of 3 (for this sample).\n",
      "[2024-02-21 13:14:28] Saved walk population and individual neighbours for sample 1, walk 2 in test_pops/MW12_d3/debug/rw/sample1.\n",
      "Generating RW population for sample 1, walk 3 as it was not found.\n",
      "RW sample no. 1 / walk no. 3 does not exist. Generating...\n",
      "Generated RW 3 of 3 (for this sample).\n",
      "[2024-02-21 13:14:29] Saved walk population and individual neighbours for sample 1, walk 3 in test_pops/MW12_d3/debug/rw/sample1.\n",
      "[2024-02-21 13:14:29] Evaluated the normalisation values for this sample set in 2.76 seconds.\n",
      "\n"
     ]
    }
   ],
   "source": [
    "rw_norm_values = evaluator.compute_rw_normalisation_values(pre_sampler, problem)\n",
    "rw_analysis = RandomWalkAnalysis(\n",
    "    pop_walk, pop_neighbours_list, rw_norm_values, evaluator.results_dir\n",
    ")"
   ]
  },
  {
   "cell_type": "markdown",
   "metadata": {},
   "source": [
    "#### Running each step of RW feature eval\n"
   ]
  },
  {
   "cell_type": "code",
   "execution_count": 33,
   "metadata": {},
   "outputs": [
    {
     "name": "stdout",
     "output_type": "stream",
     "text": [
      "Preprocessing nans on walks took 0.23 seconds.\n"
     ]
    }
   ],
   "source": [
    "start_time = time.time()\n",
    "rw_analysis.preprocess_nans_on_walks()\n",
    "end_time = time.time()\n",
    "print(f\"Preprocessing nans on walks took {end_time - start_time:.2f} seconds.\")"
   ]
  },
  {
   "cell_type": "code",
   "execution_count": 34,
   "metadata": {},
   "outputs": [
    {
     "name": "stdout",
     "output_type": "stream",
     "text": [
      "RW solver features took 0.23 seconds.\n"
     ]
    }
   ],
   "source": [
    "# Timing each of the features eval\n",
    "start_time = time.time()\n",
    "_ = rw_analysis.compute_solver_related_features()\n",
    "end_time = time.time()\n",
    "print(f\"RW solver features took {end_time - start_time:.2f} seconds.\")"
   ]
  },
  {
   "cell_type": "code",
   "execution_count": 35,
   "metadata": {},
   "outputs": [
    {
     "name": "stdout",
     "output_type": "stream",
     "text": [
      "RW neighbourhood dist features took 0.24 seconds.\n"
     ]
    }
   ],
   "source": [
    "start_time = time.time()\n",
    "_ = rw_analysis.compute_neighbourhood_distance_features(norm_method=\"95th\")\n",
    "end_time = time.time()\n",
    "print(f\"RW neighbourhood dist features took {end_time - start_time:.2f} seconds.\")"
   ]
  },
  {
   "cell_type": "code",
   "execution_count": 37,
   "metadata": {},
   "outputs": [
    {
     "name": "stdout",
     "output_type": "stream",
     "text": [
      "RW uncons neighbourhood HV features took 7.15 seconds.\n"
     ]
    }
   ],
   "source": [
    "start_time = time.time()\n",
    "_ = rw_analysis.compute_uncons_neighbourhood_hv_features(norm_method=\"95th\")\n",
    "end_time = time.time()\n",
    "print(f\"RW uncons neighbourhood HV features took {end_time - start_time:.2f} seconds.\")"
   ]
  },
  {
   "cell_type": "code",
   "execution_count": 38,
   "metadata": {},
   "outputs": [
    {
     "name": "stdout",
     "output_type": "stream",
     "text": [
      "RW cons neighbourhood HV features took 11.59 seconds.\n"
     ]
    }
   ],
   "source": [
    "start_time = time.time()\n",
    "_ = rw_analysis.compute_cons_neighbourhood_hv_features(norm_method=\"95th\")\n",
    "end_time = time.time()\n",
    "print(f\"RW cons neighbourhood HV features took {end_time - start_time:.2f} seconds.\")"
   ]
  },
  {
   "cell_type": "code",
   "execution_count": 39,
   "metadata": {},
   "outputs": [
    {
     "name": "stdout",
     "output_type": "stream",
     "text": [
      "RW neighbourhood violation features took 8.28 seconds.\n"
     ]
    }
   ],
   "source": [
    "start_time = time.time()\n",
    "_ = rw_analysis.compute_neighbourhood_violation_features(norm_method=\"95th\")\n",
    "end_time = time.time()\n",
    "print(f\"RW neighbourhood violation features took {end_time - start_time:.2f} seconds.\")"
   ]
  },
  {
   "cell_type": "code",
   "execution_count": 24,
   "metadata": {},
   "outputs": [
    {
     "name": "stdout",
     "output_type": "stream",
     "text": [
      "[[1.0000000e-05 6.9717797e-02 3.0158768e-01]]\n",
      "[[0.00814967 0.07547592 0.29380221]\n",
      " [0.00437572 0.06422597 0.30314974]\n",
      " [0.00627726 0.07349734 0.3049261 ]\n",
      " [0.00909141 0.07454445 0.3022722 ]\n",
      " [0.00625876 0.06554995 0.3038972 ]\n",
      " [0.00770354 0.06561465 0.30953898]\n",
      " [0.0099654  0.07129864 0.30360355]]\n",
      "[[1.00000000e-05 6.97177970e-02 3.01587680e-01]\n",
      " [8.14967262e-03 7.54759248e-02 2.93802209e-01]\n",
      " [4.37572491e-03 6.42259673e-02 3.03149739e-01]\n",
      " [6.27725523e-03 7.34973364e-02 3.04926101e-01]\n",
      " [9.09141476e-03 7.45444480e-02 3.02272202e-01]\n",
      " [6.25875796e-03 6.55499491e-02 3.03897204e-01]\n",
      " [7.70353851e-03 6.56146529e-02 3.09538976e-01]\n",
      " [9.96540246e-03 7.12986378e-02 3.03603551e-01]]\n",
      "[[0.0045032  0.06972114 0.30891692]]\n",
      "[[0.01014333 0.07741978 0.3124246 ]\n",
      " [0.00442395 0.06773556 0.30758917]\n",
      " [0.00413089 0.07629897 0.31361023]\n",
      " [0.01426318 0.07518161 0.3091441 ]\n",
      " [0.00172036 0.07189773 0.31622829]\n",
      " [0.00395593 0.0668161  0.30630769]\n",
      " [0.00442781 0.06931643 0.31047799]]\n",
      "[[0.0045032  0.06972114 0.30891692]\n",
      " [0.01014333 0.07741978 0.3124246 ]\n",
      " [0.00442395 0.06773556 0.30758917]\n",
      " [0.00413089 0.07629897 0.31361023]\n",
      " [0.01426318 0.07518161 0.3091441 ]\n",
      " [0.00172036 0.07189773 0.31622829]\n",
      " [0.00395593 0.0668161  0.30630769]\n",
      " [0.00442781 0.06931643 0.31047799]]\n",
      "[[0.0110591  0.07613076 0.3142389 ]]\n",
      "[[0.00530778 0.08218487 0.3238669 ]\n",
      " [0.00660291 0.07386194 0.3161272 ]\n",
      " [0.01545531 0.07959898 0.31471989]\n",
      " [0.00342368 0.06889601 0.3216783 ]\n",
      " [0.0054598  0.07063478 0.3224174 ]\n",
      " [0.00455922 0.07384483 0.30548162]\n",
      " [0.01822677 0.07438726 0.31144458]]\n",
      "[[0.0110591  0.07613076 0.3142389 ]\n",
      " [0.00530778 0.08218487 0.3238669 ]\n",
      " [0.00660291 0.07386194 0.3161272 ]\n",
      " [0.01545531 0.07959898 0.31471989]\n",
      " [0.00342368 0.06889601 0.3216783 ]\n",
      " [0.0054598  0.07063478 0.3224174 ]\n",
      " [0.00455922 0.07384483 0.30548162]\n",
      " [0.01822677 0.07438726 0.31144458]]\n",
      "[[0.01832762 0.08044544 0.31679139]]\n",
      "[[0.02761844 0.08004985 0.31969553]\n",
      " [0.0100855  0.08213165 0.31290077]\n",
      " [0.01550566 0.08119125 0.31336721]\n",
      " [0.00904701 0.08907815 0.31901732]\n",
      " [0.0123653  0.07947949 0.31603706]\n",
      " [0.01157998 0.07157277 0.3157466 ]\n",
      " [0.02562585 0.07257867 0.30973742]]\n",
      "[[0.01832762 0.08044544 0.31679139]\n",
      " [0.02761844 0.08004985 0.31969553]\n",
      " [0.0100855  0.08213165 0.31290077]\n",
      " [0.01550566 0.08119125 0.31336721]\n",
      " [0.00904701 0.08907815 0.31901732]\n",
      " [0.0123653  0.07947949 0.31603706]\n",
      " [0.01157998 0.07157277 0.3157466 ]\n",
      " [0.02562585 0.07257867 0.30973742]]\n",
      "[[0.02693212 0.09019693 0.32026021]]\n",
      "[[0.03493912 0.08399427 0.31569554]\n",
      " [0.02855926 0.09743857 0.32034014]\n",
      " [0.02210564 0.09539664 0.32684865]\n",
      " [0.01695511 0.09370649 0.31893494]\n",
      " [0.03384344 0.08427173 0.31646853]\n",
      " [0.03438566 0.08545734 0.32562895]\n",
      " [0.03112077 0.09218138 0.32219631]]\n",
      "[[0.02693212 0.09019693 0.32026021]\n",
      " [0.03493912 0.08399427 0.31569554]\n",
      " [0.02855926 0.09743857 0.32034014]\n",
      " [0.02210564 0.09539664 0.32684865]\n",
      " [0.01695511 0.09370649 0.31893494]\n",
      " [0.03384344 0.08427173 0.31646853]\n",
      " [0.03438566 0.08545734 0.32562895]\n",
      " [0.03112077 0.09218138 0.32219631]]\n",
      "[[0.0322924  0.09060605 0.32079371]]\n",
      "[[0.04226208 0.09424054 0.32467636]\n",
      " [0.03410478 0.08612696 0.32010263]\n",
      " [0.02968412 0.09131602 0.31174548]\n",
      " [0.02461815 0.08596848 0.31747037]\n",
      " [0.02345022 0.09883647 0.31123483]\n",
      " [0.02979638 0.08740576 0.31913206]\n",
      " [0.03580825 0.09773667 0.32408822]]\n",
      "[[0.0322924  0.09060605 0.32079371]\n",
      " [0.04226208 0.09424054 0.32467636]\n",
      " [0.03410478 0.08612696 0.32010263]\n",
      " [0.02968412 0.09131602 0.31174548]\n",
      " [0.02461815 0.08596848 0.31747037]\n",
      " [0.02345022 0.09883647 0.31123483]\n",
      " [0.02979638 0.08740576 0.31913206]\n",
      " [0.03580825 0.09773667 0.32408822]]\n",
      "[[0.04052717 0.0976202  0.32088006]]\n",
      "[[0.04489213 0.09233421 0.32348058]\n",
      " [0.04334099 0.10687547 0.32822071]\n",
      " [0.03864668 0.09580214 0.32600678]\n",
      " [0.04386931 0.10069059 0.32470782]\n",
      " [0.036388   0.09219532 0.33082548]\n",
      " [0.04971066 0.10105477 0.31495369]\n",
      " [0.03740388 0.09681519 0.31866275]]\n",
      "[[0.04052717 0.0976202  0.32088006]\n",
      " [0.04489213 0.09233421 0.32348058]\n",
      " [0.04334099 0.10687547 0.32822071]\n",
      " [0.03864668 0.09580214 0.32600678]\n",
      " [0.04386931 0.10069059 0.32470782]\n",
      " [0.036388   0.09219532 0.33082548]\n",
      " [0.04971066 0.10105477 0.31495369]\n",
      " [0.03740388 0.09681519 0.31866275]]\n",
      "[[0.04340292 0.1056098  0.32793399]]\n",
      "[[0.04642541 0.10295899 0.33462083]\n",
      " [0.04301996 0.10041453 0.33164737]\n",
      " [0.04468585 0.11295003 0.32742016]\n",
      " [0.03811277 0.09947042 0.33112427]\n",
      " [0.0450769  0.10464155 0.32776879]\n",
      " [0.05319177 0.11080437 0.31972224]\n",
      " [0.04605043 0.10580648 0.33278636]]\n",
      "[[0.04340292 0.1056098  0.32793399]\n",
      " [0.04642541 0.10295899 0.33462083]\n",
      " [0.04301996 0.10041453 0.33164737]\n",
      " [0.04468585 0.11295003 0.32742016]\n",
      " [0.03811277 0.09947042 0.33112427]\n",
      " [0.0450769  0.10464155 0.32776879]\n",
      " [0.05319177 0.11080437 0.31972224]\n",
      " [0.04605043 0.10580648 0.33278636]]\n",
      "[[0.05245634 0.10961716 0.3305499 ]]\n",
      "[[0.05976468 0.10049748 0.32141324]\n",
      " [0.0566551  0.11051318 0.33335071]\n",
      " [0.05404572 0.10894017 0.32416413]\n",
      " [0.0439502  0.11073776 0.33430051]\n",
      " [0.04511625 0.10560494 0.3239765 ]\n",
      " [0.04497704 0.09966037 0.32176117]\n",
      " [0.05024686 0.1017567  0.32193627]]\n",
      "[[0.05245634 0.10961716 0.3305499 ]\n",
      " [0.05976468 0.10049748 0.32141324]\n",
      " [0.0566551  0.11051318 0.33335071]\n",
      " [0.05404572 0.10894017 0.32416413]\n",
      " [0.0439502  0.11073776 0.33430051]\n",
      " [0.04511625 0.10560494 0.3239765 ]\n",
      " [0.04497704 0.09966037 0.32176117]\n",
      " [0.05024686 0.1017567  0.32193627]]\n",
      "[[0.05986942 0.11072431 0.33211744]]\n",
      "[[0.05380211 0.11429286 0.33456058]\n",
      " [0.0563255  0.12029707 0.3334743 ]\n",
      " [0.06684224 0.11952624 0.32406345]\n",
      " [0.05748559 0.10339741 0.33537445]\n",
      " [0.05592165 0.10668687 0.32966886]\n",
      " [0.06587822 0.11482559 0.33159635]\n",
      " [0.06939778 0.1098454  0.34024676]]\n",
      "[[0.05986942 0.11072431 0.33211744]\n",
      " [0.05380211 0.11429286 0.33456058]\n",
      " [0.0563255  0.12029707 0.3334743 ]\n",
      " [0.06684224 0.11952624 0.32406345]\n",
      " [0.05748559 0.10339741 0.33537445]\n",
      " [0.05592165 0.10668687 0.32966886]\n",
      " [0.06587822 0.11482559 0.33159635]\n",
      " [0.06939778 0.1098454  0.34024676]]\n",
      "[[0.06728727 0.11559668 0.34072904]]\n",
      "[[0.0685863  0.10944858 0.33303816]\n",
      " [0.05846657 0.11118703 0.34058955]\n",
      " [0.07025462 0.12117695 0.33699864]\n",
      " [0.05972351 0.11504754 0.3409486 ]\n",
      " [0.06687806 0.12007774 0.34772644]\n",
      " [0.05920225 0.10982202 0.34578621]\n",
      " [0.06864142 0.11171954 0.33974407]]\n",
      "[[0.06728727 0.11559668 0.34072904]\n",
      " [0.0685863  0.10944858 0.33303816]\n",
      " [0.05846657 0.11118703 0.34058955]\n",
      " [0.07025462 0.12117695 0.33699864]\n",
      " [0.05972351 0.11504754 0.3409486 ]\n",
      " [0.06687806 0.12007774 0.34772644]\n",
      " [0.05920225 0.10982202 0.34578621]\n",
      " [0.06864142 0.11171954 0.33974407]]\n",
      "[[0.07126151 0.11607913 0.34721112]]\n",
      "[[0.06422226 0.11363756 0.35152225]\n",
      " [0.07596741 0.11921074 0.3413833 ]\n",
      " [0.07146046 0.12159864 0.35353734]\n",
      " [0.07561961 0.11604491 0.34773075]\n",
      " [0.07741549 0.11693661 0.3460721 ]\n",
      " [0.06732927 0.10820853 0.34388608]\n",
      " [0.06847385 0.12504977 0.35446171]]\n",
      "[[0.07126151 0.11607913 0.34721112]\n",
      " [0.06422226 0.11363756 0.35152225]\n",
      " [0.07596741 0.11921074 0.3413833 ]\n",
      " [0.07146046 0.12159864 0.35353734]\n",
      " [0.07561961 0.11604491 0.34773075]\n",
      " [0.07741549 0.11693661 0.3460721 ]\n",
      " [0.06732927 0.10820853 0.34388608]\n",
      " [0.06847385 0.12504977 0.35446171]]\n",
      "[[0.07830669 0.12292067 0.35277703]]\n",
      "[[0.08118606 0.12222345 0.3461584 ]\n",
      " [0.08376257 0.11629391 0.35364404]\n",
      " [0.08469808 0.12065784 0.35204854]\n",
      " [0.07632741 0.11553642 0.34611705]\n",
      " [0.08730844 0.12850142 0.36075743]\n",
      " [0.08261731 0.126355   0.35062103]\n",
      " [0.07005732 0.12138137 0.34846081]]\n",
      "[[0.07830669 0.12292067 0.35277703]\n",
      " [0.08118606 0.12222345 0.3461584 ]\n",
      " [0.08376257 0.11629391 0.35364404]\n",
      " [0.08469808 0.12065784 0.35204854]\n",
      " [0.07632741 0.11553642 0.34611705]\n",
      " [0.08730844 0.12850142 0.36075743]\n",
      " [0.08261731 0.126355   0.35062103]\n",
      " [0.07005732 0.12138137 0.34846081]]\n",
      "[[0.08493603 0.12568983 0.35988451]]\n",
      "[[0.08277267 0.12023869 0.35546008]\n",
      " [0.09304044 0.12324333 0.36813765]\n",
      " [0.07904421 0.13552638 0.36739762]\n",
      " [0.07563268 0.12929303 0.36874061]\n",
      " [0.09483177 0.1258173  0.36826019]\n",
      " [0.07556587 0.12828988 0.35669804]\n",
      " [0.09477259 0.13242308 0.35691976]]\n",
      "[[0.08493603 0.12568983 0.35988451]\n",
      " [0.08277267 0.12023869 0.35546008]\n",
      " [0.09304044 0.12324333 0.36813765]\n",
      " [0.07904421 0.13552638 0.36739762]\n",
      " [0.07563268 0.12929303 0.36874061]\n",
      " [0.09483177 0.1258173  0.36826019]\n",
      " [0.07556587 0.12828988 0.35669804]\n",
      " [0.09477259 0.13242308 0.35691976]]\n",
      "[[0.08570811 0.13419887 0.36764293]]\n",
      "[[0.08364036 0.14006009 0.36600554]\n",
      " [0.09547746 0.12443565 0.36169786]\n",
      " [0.07607665 0.13925747 0.37501005]\n",
      " [0.08206853 0.13912056 0.36379097]\n",
      " [0.09205738 0.12908863 0.37635355]\n",
      " [0.08584231 0.14081661 0.36901596]\n",
      " [0.07976154 0.13683741 0.35842789]]\n",
      "[[0.08570811 0.13419887 0.36764293]\n",
      " [0.08364036 0.14006009 0.36600554]\n",
      " [0.09547746 0.12443565 0.36169786]\n",
      " [0.07607665 0.13925747 0.37501005]\n",
      " [0.08206853 0.13912056 0.36379097]\n",
      " [0.09205738 0.12908863 0.37635355]\n",
      " [0.08584231 0.14081661 0.36901596]\n",
      " [0.07976154 0.13683741 0.35842789]]\n",
      "[[0.0874221  0.13762505 0.36968555]]\n",
      "[[0.08751616 0.14731442 0.36813787]\n",
      " [0.08960828 0.13567945 0.37252309]\n",
      " [0.08557246 0.1366218  0.36042937]\n",
      " [0.07823993 0.14249717 0.37482155]\n",
      " [0.08337084 0.13241897 0.37741034]\n",
      " [0.08265429 0.1331568  0.36156666]\n",
      " [0.0890497  0.13853216 0.3758124 ]]\n",
      "[[0.0874221  0.13762505 0.36968555]\n",
      " [0.08751616 0.14731442 0.36813787]\n",
      " [0.08960828 0.13567945 0.37252309]\n",
      " [0.08557246 0.1366218  0.36042937]\n",
      " [0.07823993 0.14249717 0.37482155]\n",
      " [0.08337084 0.13241897 0.37741034]\n",
      " [0.08265429 0.1331568  0.36156666]\n",
      " [0.0890497  0.13853216 0.3758124 ]]\n",
      "[[0.09576803 0.14088066 0.37071768]]\n",
      "[[0.10270349 0.13412786 0.36567275]\n",
      " [0.09972607 0.13833555 0.36498893]\n",
      " [0.10202546 0.14836929 0.37155394]\n",
      " [0.09201447 0.14219938 0.36948129]\n",
      " [0.09743739 0.13409892 0.36945249]\n",
      " [0.09825553 0.14727064 0.36930079]\n",
      " [0.09029027 0.14329821 0.36420226]]\n",
      "[[0.09576803 0.14088066 0.37071768]\n",
      " [0.10270349 0.13412786 0.36567275]\n",
      " [0.09972607 0.13833555 0.36498893]\n",
      " [0.10202546 0.14836929 0.37155394]\n",
      " [0.09201447 0.14219938 0.36948129]\n",
      " [0.09743739 0.13409892 0.36945249]\n",
      " [0.09825553 0.14727064 0.36930079]\n",
      " [0.09029027 0.14329821 0.36420226]]\n",
      "[[0.10228168 0.14107983 0.3733617 ]]\n",
      "[[0.10999337 0.13884708 0.36759627]\n",
      " [0.10089772 0.13265023 0.3695093 ]\n",
      " [0.09356839 0.13805119 0.36778859]\n",
      " [0.09572652 0.14089001 0.37154574]\n",
      " [0.10705823 0.13343446 0.36510129]\n",
      " [0.09322656 0.14780385 0.36535863]\n",
      " [0.10057356 0.13819838 0.36619845]]\n",
      "[[0.10228168 0.14107983 0.3733617 ]\n",
      " [0.10999337 0.13884708 0.36759627]\n",
      " [0.10089772 0.13265023 0.3695093 ]\n",
      " [0.09356839 0.13805119 0.36778859]\n",
      " [0.09572652 0.14089001 0.37154574]\n",
      " [0.10705823 0.13343446 0.36510129]\n",
      " [0.09322656 0.14780385 0.36535863]\n",
      " [0.10057356 0.13819838 0.36619845]]\n",
      "[[0.10573254 0.14162549 0.38152582]]\n",
      "[[0.1096001  0.14560931 0.3861571 ]\n",
      " [0.11464714 0.1455812  0.38670235]\n",
      " [0.10481386 0.14732753 0.38722381]\n",
      " [0.1009882  0.13370943 0.37761872]\n",
      " [0.10934238 0.14810659 0.38760573]\n",
      " [0.09584096 0.15134814 0.37956107]\n",
      " [0.10264464 0.137227   0.38946655]]\n",
      "[[0.10573254 0.14162549 0.38152582]\n",
      " [0.1096001  0.14560931 0.3861571 ]\n",
      " [0.11464714 0.1455812  0.38670235]\n",
      " [0.10481386 0.14732753 0.38722381]\n",
      " [0.1009882  0.13370943 0.37761872]\n",
      " [0.10934238 0.14810659 0.38760573]\n",
      " [0.09584096 0.15134814 0.37956107]\n",
      " [0.10264464 0.137227   0.38946655]]\n",
      "[[0.1087065  0.14215958 0.39101114]]\n",
      "[[0.11396163 0.13690269 0.38490983]\n",
      " [0.11703442 0.14035943 0.38145991]\n",
      " [0.10591407 0.14675002 0.40089623]\n",
      " [0.10175669 0.14575817 0.39039633]\n",
      " [0.10120018 0.1329737  0.38952115]\n",
      " [0.10706189 0.15029951 0.38141021]\n",
      " [0.10905659 0.14634324 0.39899992]]\n",
      "[[0.1087065  0.14215958 0.39101114]\n",
      " [0.11396163 0.13690269 0.38490983]\n",
      " [0.11703442 0.14035943 0.38145991]\n",
      " [0.10591407 0.14675002 0.40089623]\n",
      " [0.10175669 0.14575817 0.39039633]\n",
      " [0.10120018 0.1329737  0.38952115]\n",
      " [0.10706189 0.15029951 0.38141021]\n",
      " [0.10905659 0.14634324 0.39899992]]\n",
      "RW neighbourhood dominance features took 0.12 seconds.\n"
     ]
    }
   ],
   "source": [
    "start_time = time.time()\n",
    "_ = rw_analysis.compute_neighbourhood_dominance_features()\n",
    "end_time = time.time()\n",
    "print(f\"RW neighbourhood dominance features took {end_time - start_time:.2f} seconds.\")"
   ]
  },
  {
   "cell_type": "code",
   "execution_count": 42,
   "metadata": {},
   "outputs": [
    {
     "name": "stdout",
     "output_type": "stream",
     "text": [
      "RW IC features took 0.29 seconds.\n"
     ]
    }
   ],
   "source": [
    "start_time = time.time()\n",
    "_ = GlobalAnalysis.compute_ic_features(rw_analysis.pop_walk, sample_type=\"rw\")\n",
    "end_time = time.time()\n",
    "print(f\"RW IC features took {end_time - start_time:.2f} seconds.\")"
   ]
  },
  {
   "cell_type": "markdown",
   "metadata": {},
   "source": [
    "### Global\n"
   ]
  },
  {
   "cell_type": "code",
   "execution_count": 10,
   "metadata": {},
   "outputs": [
    {
     "name": "stdout",
     "output_type": "stream",
     "text": [
      "Total evaluation time: 47.82 seconds, Sample size: 10000\n",
      "Time to save with pickle: 0.12 seconds\n",
      "Time to save with numpy: 0.14 seconds\n"
     ]
    }
   ],
   "source": [
    "import time\n",
    "import pickle\n",
    "import numpy as np\n",
    "import os\n",
    "\n",
    "# Assuming pre_sampler, evaluator, and problem are already defined\n",
    "# and generate_global_population method returns pop_global as a numpy array or a list that can be converted to a numpy array\n",
    "\n",
    "# Generate distributed samples and evaluate populations on these samples.\n",
    "sample = pre_sampler.read_global_sample(5)\n",
    "start_time = time.time()\n",
    "pop_global = evaluator.generate_global_population(problem, sample, eval_fronts=False)\n",
    "end_time = time.time()\n",
    "\n",
    "evaluation_time = end_time - start_time  # Calculate total evaluation time in seconds\n",
    "print(\n",
    "    f\"Total evaluation time: {evaluation_time:.2f} seconds, Sample size: {len(pop_global)}\"\n",
    ")\n",
    "\n",
    "# Save with pickle\n",
    "pickle_start_time = time.time()\n",
    "with open(\"pop_global.pkl\", \"wb\") as file:\n",
    "    pickle.dump(pop_global, file)\n",
    "pickle_end_time = time.time()\n",
    "pickle_time = pickle_end_time - pickle_start_time\n",
    "\n",
    "# Save with numpy\n",
    "numpy_start_time = time.time()\n",
    "np.save(\"pop_global.npy\", pop_global)\n",
    "numpy_end_time = time.time()\n",
    "numpy_time = numpy_end_time - numpy_start_time\n",
    "\n",
    "print(f\"Time to save with pickle: {pickle_time:.2f} seconds\")\n",
    "print(f\"Time to save with numpy: {numpy_time:.2f} seconds\")"
   ]
  },
  {
   "cell_type": "code",
   "execution_count": 12,
   "metadata": {},
   "outputs": [
    {
     "name": "stdout",
     "output_type": "stream",
     "text": [
      "Time to read with pickle: 0.13 seconds\n"
     ]
    }
   ],
   "source": [
    "import time\n",
    "import pickle\n",
    "import numpy as np\n",
    "\n",
    "# Read with pickle\n",
    "pickle_read_start_time = time.time()\n",
    "with open(\"pop_global.pkl\", \"rb\") as file:\n",
    "    pop_global_pickle = pickle.load(file)\n",
    "pickle_read_end_time = time.time()\n",
    "pickle_read_time = pickle_read_end_time - pickle_read_start_time\n",
    "\n",
    "print(f\"Time to read with pickle: {pickle_read_time:.2f} seconds\")"
   ]
  },
  {
   "cell_type": "code",
   "execution_count": null,
   "metadata": {},
   "outputs": [
    {
     "name": "stdout",
     "output_type": "stream",
     "text": [
      "Computed IC features in 3.93 seconds. Sample size: 10000.\n"
     ]
    }
   ],
   "source": [
    "# IC features\n",
    "start_ic_time = time.time()\n",
    "\n",
    "# Compute IC features\n",
    "(H_max, eps_s, m0, eps05) = compute_ic_features(pop_global)\n",
    "\n",
    "# End time for computing IC features\n",
    "end_ic_time = time.time()\n",
    "\n",
    "# Calculate the computation time\n",
    "ic_computation_time = end_ic_time - start_ic_time\n",
    "\n",
    "# Get the size of pop_global\n",
    "sample_size = len(pop_global)\n",
    "\n",
    "# Print the descriptive message\n",
    "print(\n",
    "    f\"Computed IC features in {ic_computation_time:.2f} seconds. Sample size: {sample_size}.\"\n",
    ")"
   ]
  }
 ],
 "metadata": {
  "kernelspec": {
   "display_name": "thesis_env_windows",
   "language": "python",
   "name": "python3"
  },
  "language_info": {
   "codemirror_mode": {
    "name": "ipython",
    "version": 3
   },
   "file_extension": ".py",
   "mimetype": "text/x-python",
   "name": "python",
   "nbconvert_exporter": "python",
   "pygments_lexer": "ipython3",
   "version": "3.8.17"
  }
 },
 "nbformat": 4,
 "nbformat_minor": 2
}
