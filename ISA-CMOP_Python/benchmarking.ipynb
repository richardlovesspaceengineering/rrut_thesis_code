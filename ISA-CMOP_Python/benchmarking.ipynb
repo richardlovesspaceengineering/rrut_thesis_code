{
 "cells": [
  {
   "cell_type": "code",
   "execution_count": 40,
   "metadata": {},
   "outputs": [
    {
     "name": "stdout",
     "output_type": "stream",
     "text": [
      "The autoreload extension is already loaded. To reload it, use:\n",
      "  %reload_ext autoreload\n"
     ]
    }
   ],
   "source": [
    "%load_ext autoreload\n",
    "%autoreload 2\n",
    "\n",
    "from ProblemEvaluator import ProblemEvaluator\n",
    "import numpy as np\n",
    "from pymoo.problems import get_problem\n",
    "import matplotlib.pyplot as plt\n",
    "from optimisation.model.population import Population\n",
    "from features.RandomWalkAnalysis import RandomWalkAnalysis\n",
    "from features.GlobalAnalysis import GlobalAnalysis"
   ]
  },
  {
   "cell_type": "code",
   "execution_count": 21,
   "metadata": {},
   "outputs": [
    {
     "name": "stdout",
     "output_type": "stream",
     "text": [
      "Initialising evaluator in eval mode.\n",
      "Starting the creation process for population directories for problem: MW12_d3 in mode: eval\n",
      "Directory already exists and does not need to be created: test_pops\\MW12_d3\\eval\\global\n",
      "Directory already exists and does not need to be created: test_pops\\MW12_d3\\eval\\rw\n",
      "Population directories setup complete.\n",
      "Global population directory: test_pops\\MW12_d3\\eval\\global\n",
      "RW population directory: test_pops\\MW12_d3\\eval\\rw\n"
     ]
    }
   ],
   "source": [
    "# Flags for which feature set we want to test.\n",
    "sample_rw = True\n",
    "sample_aw = False\n",
    "\n",
    "# Example problem.\n",
    "num_samples = 1\n",
    "num_cores = 1\n",
    "n_var = 3\n",
    "problem_name = \"MW12\"\n",
    "problem = get_problem(problem_name, n_var)\n",
    "instance_string = f\"{problem_name}_d{n_var}\"\n",
    "\n",
    "# Generate evaluator which can generate RW samples and LHS samples.\n",
    "evaluator = ProblemEvaluator(\n",
    "    problem, instance_string, \"eval\", \"test_results\", num_cores, num_samples\n",
    ")\n",
    "evaluator.initialize_number_of_cores()\n",
    "pre_sampler = evaluator.create_pre_sampler()\n",
    "pre_sampler.create_pregen_sample_dir()\n",
    "pre_sampler.create_pops_dir(instance_string, \"test_pops\")"
   ]
  },
  {
   "cell_type": "markdown",
   "metadata": {},
   "source": [
    "### Random Walk\n"
   ]
  },
  {
   "cell_type": "code",
   "execution_count": 22,
   "metadata": {},
   "outputs": [
    {
     "name": "stdout",
     "output_type": "stream",
     "text": [
      "Reading walk neighbours took 0.00 seconds.\n"
     ]
    }
   ],
   "source": [
    "sample_number = 1\n",
    "walk_number = 1\n",
    "\n",
    "import time  # Import the time module\n",
    "\n",
    "# Start timing for reading walk neighbours\n",
    "start_time = time.time()\n",
    "walk, neighbours = pre_sampler.read_walk_neighbours(sample_number, walk_number)\n",
    "end_time = time.time()\n",
    "print(f\"Reading walk neighbours took {end_time - start_time:.2f} seconds.\")\n",
    "\n",
    "# Start timing for generating walk neighbour populations"
   ]
  },
  {
   "cell_type": "code",
   "execution_count": 23,
   "metadata": {},
   "outputs": [
    {
     "name": "stdout",
     "output_type": "stream",
     "text": [
      "Generating walk neighbour populations took 41.24 seconds.\n"
     ]
    }
   ],
   "source": [
    "start_time = time.time()\n",
    "pop_walk, pop_neighbours_list = evaluator.generate_walk_neig_populations(\n",
    "    problem, walk, neighbours, True\n",
    ")\n",
    "end_time = time.time()\n",
    "print(\n",
    "    f\"Generating walk neighbour populations took {end_time - start_time:.2f} seconds.\"\n",
    ")"
   ]
  },
  {
   "cell_type": "code",
   "execution_count": 24,
   "metadata": {},
   "outputs": [
    {
     "name": "stdout",
     "output_type": "stream",
     "text": [
      "[2024-02-21 12:08:25] Saved walk population and individual neighbours for sample 1, walk 1 in test_pops\\MW12_d3\\eval\\rw\\sample1.\n",
      "Saving walk neighbour population (new method) took 0.27 seconds.\n"
     ]
    }
   ],
   "source": [
    "# Start timing for saving walk neighbour population\n",
    "start_time = time.time()\n",
    "pre_sampler.save_walk_neig_population(\n",
    "    pop_walk, pop_neighbours_list, sample_number, walk_number\n",
    ")\n",
    "end_time = time.time()\n",
    "print(\n",
    "    f\"Saving walk neighbour population (new method) took {end_time - start_time:.2f} seconds.\"\n",
    ")"
   ]
  },
  {
   "cell_type": "code",
   "execution_count": 25,
   "metadata": {},
   "outputs": [
    {
     "name": "stdout",
     "output_type": "stream",
     "text": [
      "[2024-02-21 12:08:25] Loaded walk and individual neighbours for sample 1, walk 1 from test_pops\\MW12_d3\\eval\\rw\\sample1.\n",
      "Loading walk neighbour population (new method) took 0.17 seconds.\n"
     ]
    }
   ],
   "source": [
    "# Attempt to use pre-generated samples.\n",
    "start_time = time.time()\n",
    "pop_walk, pop_neighbours_list = pre_sampler.load_walk_neig_population(\n",
    "    sample_number, walk_number\n",
    ")\n",
    "end_time = time.time()\n",
    "print(\n",
    "    f\"Loading walk neighbour population (new method) took {end_time - start_time:.2f} seconds.\"\n",
    ")"
   ]
  },
  {
   "cell_type": "markdown",
   "metadata": {},
   "source": [
    "#### Analysis Object Creation\n"
   ]
  },
  {
   "cell_type": "code",
   "execution_count": 26,
   "metadata": {},
   "outputs": [
    {
     "name": "stdout",
     "output_type": "stream",
     "text": [
      "[2024-02-21 12:08:25] Initialising normalisation computations for RW samples using 1 cores. This requires full evaluation of the entire sample set and may take some time while still being memory-efficient.\n",
      "[2024-02-21 12:08:27] Evaluated the normalisation values for this sample set in 1.73 seconds.\n",
      "\n"
     ]
    }
   ],
   "source": [
    "rw_norm_values = evaluator.compute_rw_normalisation_values(pre_sampler, problem)\n",
    "rw_analysis = RandomWalkAnalysis(\n",
    "    pop_walk, pop_neighbours_list, rw_norm_values, evaluator.results_dir\n",
    ")"
   ]
  },
  {
   "cell_type": "markdown",
   "metadata": {},
   "source": [
    "#### Running each step of RW feature eval\n"
   ]
  },
  {
   "cell_type": "code",
   "execution_count": 33,
   "metadata": {},
   "outputs": [
    {
     "name": "stdout",
     "output_type": "stream",
     "text": [
      "Preprocessing nans on walks took 0.23 seconds.\n"
     ]
    }
   ],
   "source": [
    "start_time = time.time()\n",
    "rw_analysis.preprocess_nans_on_walks()\n",
    "end_time = time.time()\n",
    "print(f\"Preprocessing nans on walks took {end_time - start_time:.2f} seconds.\")"
   ]
  },
  {
   "cell_type": "code",
   "execution_count": 34,
   "metadata": {},
   "outputs": [
    {
     "name": "stdout",
     "output_type": "stream",
     "text": [
      "RW solver features took 0.23 seconds.\n"
     ]
    }
   ],
   "source": [
    "# Timing each of the features eval\n",
    "start_time = time.time()\n",
    "_ = rw_analysis.compute_solver_related_features()\n",
    "end_time = time.time()\n",
    "print(f\"RW solver features took {end_time - start_time:.2f} seconds.\")"
   ]
  },
  {
   "cell_type": "code",
   "execution_count": 35,
   "metadata": {},
   "outputs": [
    {
     "name": "stdout",
     "output_type": "stream",
     "text": [
      "RW neighbourhood dist features took 0.24 seconds.\n"
     ]
    }
   ],
   "source": [
    "start_time = time.time()\n",
    "_ = rw_analysis.compute_neighbourhood_distance_features(norm_method=\"95th\")\n",
    "end_time = time.time()\n",
    "print(f\"RW neighbourhood dist features took {end_time - start_time:.2f} seconds.\")"
   ]
  },
  {
   "cell_type": "code",
   "execution_count": 37,
   "metadata": {},
   "outputs": [
    {
     "name": "stdout",
     "output_type": "stream",
     "text": [
      "RW uncons neighbourhood HV features took 7.15 seconds.\n"
     ]
    }
   ],
   "source": [
    "start_time = time.time()\n",
    "_ = rw_analysis.compute_uncons_neighbourhood_hv_features(norm_method=\"95th\")\n",
    "end_time = time.time()\n",
    "print(f\"RW uncons neighbourhood HV features took {end_time - start_time:.2f} seconds.\")"
   ]
  },
  {
   "cell_type": "code",
   "execution_count": 38,
   "metadata": {},
   "outputs": [
    {
     "name": "stdout",
     "output_type": "stream",
     "text": [
      "RW cons neighbourhood HV features took 11.59 seconds.\n"
     ]
    }
   ],
   "source": [
    "start_time = time.time()\n",
    "_ = rw_analysis.compute_cons_neighbourhood_hv_features(norm_method=\"95th\")\n",
    "end_time = time.time()\n",
    "print(f\"RW cons neighbourhood HV features took {end_time - start_time:.2f} seconds.\")"
   ]
  },
  {
   "cell_type": "code",
   "execution_count": 39,
   "metadata": {},
   "outputs": [
    {
     "name": "stdout",
     "output_type": "stream",
     "text": [
      "RW neighbourhood violation features took 8.28 seconds.\n"
     ]
    }
   ],
   "source": [
    "start_time = time.time()\n",
    "_ = rw_analysis.compute_neighbourhood_violation_features(norm_method=\"95th\")\n",
    "end_time = time.time()\n",
    "print(f\"RW neighbourhood violation features took {end_time - start_time:.2f} seconds.\")"
   ]
  },
  {
   "cell_type": "code",
   "execution_count": 45,
   "metadata": {},
   "outputs": [
    {
     "ename": "IndexError",
     "evalue": "index 0 is out of bounds for axis 0 with size 0",
     "output_type": "error",
     "traceback": [
      "\u001b[1;31m---------------------------------------------------------------------------\u001b[0m",
      "\u001b[1;31mIndexError\u001b[0m                                Traceback (most recent call last)",
      "Cell \u001b[1;32mIn[45], line 2\u001b[0m\n\u001b[0;32m      1\u001b[0m start_time \u001b[38;5;241m=\u001b[39m time\u001b[38;5;241m.\u001b[39mtime()\n\u001b[1;32m----> 2\u001b[0m _ \u001b[38;5;241m=\u001b[39m \u001b[43mrw_analysis\u001b[49m\u001b[38;5;241;43m.\u001b[39;49m\u001b[43mcompute_neighbourhood_dominance_features\u001b[49m\u001b[43m(\u001b[49m\u001b[43m)\u001b[49m\n\u001b[0;32m      3\u001b[0m end_time \u001b[38;5;241m=\u001b[39m time\u001b[38;5;241m.\u001b[39mtime()\n\u001b[0;32m      4\u001b[0m \u001b[38;5;28mprint\u001b[39m(\u001b[38;5;124mf\u001b[39m\u001b[38;5;124m\"\u001b[39m\u001b[38;5;124mRW neighbourhood dominance features took \u001b[39m\u001b[38;5;132;01m{\u001b[39;00mend_time\u001b[38;5;250m \u001b[39m\u001b[38;5;241m-\u001b[39m\u001b[38;5;250m \u001b[39mstart_time\u001b[38;5;132;01m:\u001b[39;00m\u001b[38;5;124m.2f\u001b[39m\u001b[38;5;132;01m}\u001b[39;00m\u001b[38;5;124m seconds.\u001b[39m\u001b[38;5;124m\"\u001b[39m)\n",
      "File \u001b[1;32mc:\\Users\\richa\\Documents\\Thesis\\rrut_thesis_code\\ISA-CMOP_Python\\features\\RandomWalkAnalysis.py:514\u001b[0m, in \u001b[0;36mRandomWalkAnalysis.compute_neighbourhood_dominance_features\u001b[1;34m(self)\u001b[0m\n\u001b[0;32m    511\u001b[0m \u001b[38;5;28;01mfor\u001b[39;00m i \u001b[38;5;129;01min\u001b[39;00m \u001b[38;5;28mrange\u001b[39m(var\u001b[38;5;241m.\u001b[39mshape[\u001b[38;5;241m0\u001b[39m]):\n\u001b[0;32m    512\u001b[0m     \u001b[38;5;66;03m# Extract neighbours for this point and append.\u001b[39;00m\n\u001b[0;32m    513\u001b[0m     pop_neighbourhood \u001b[38;5;241m=\u001b[39m \u001b[38;5;28mself\u001b[39m\u001b[38;5;241m.\u001b[39mpop_neighbours_list[i]\n\u001b[1;32m--> 514\u001b[0m     pop_step \u001b[38;5;241m=\u001b[39m \u001b[38;5;28;43mself\u001b[39;49m\u001b[38;5;241;43m.\u001b[39;49m\u001b[43mpop_walk\u001b[49m\u001b[38;5;241;43m.\u001b[39;49m\u001b[43mslice_population\u001b[49m\u001b[43m(\u001b[49m\u001b[38;5;241;43m0\u001b[39;49m\u001b[43m,\u001b[49m\u001b[43m \u001b[49m\u001b[38;5;241;43m1\u001b[39;49m\u001b[43m)\u001b[49m  \u001b[38;5;66;03m# gets element at i\u001b[39;00m\n\u001b[0;32m    516\u001b[0m     \u001b[38;5;66;03m# Compute proportion of locally non-dominated solutions.\u001b[39;00m\n\u001b[0;32m    517\u001b[0m     lnd_array[i] \u001b[38;5;241m=\u001b[39m np\u001b[38;5;241m.\u001b[39matleast_2d(\n\u001b[0;32m    518\u001b[0m         pop_neighbourhood\u001b[38;5;241m.\u001b[39mextract_nondominated()\n\u001b[0;32m    519\u001b[0m     )\u001b[38;5;241m.\u001b[39mshape[\u001b[38;5;241m0\u001b[39m] \u001b[38;5;241m/\u001b[39m \u001b[38;5;28mlen\u001b[39m(pop_neighbourhood)\n",
      "File \u001b[1;32mc:\\Users\\richa\\Documents\\Thesis\\rrut_thesis_code\\ISA-CMOP_Python\\optimisation\\model\\population.py:55\u001b[0m, in \u001b[0;36mPopulation.slice_population\u001b[1;34m(self, start, end)\u001b[0m\n\u001b[0;32m     53\u001b[0m sliced \u001b[38;5;241m=\u001b[39m Population\u001b[38;5;241m.\u001b[39m\u001b[38;5;21m__new__\u001b[39m(Population, end \u001b[38;5;241m-\u001b[39m start)\n\u001b[0;32m     54\u001b[0m \u001b[38;5;28;01mfor\u001b[39;00m i \u001b[38;5;129;01min\u001b[39;00m \u001b[38;5;28mrange\u001b[39m(start, end):\n\u001b[1;32m---> 55\u001b[0m     \u001b[43msliced\u001b[49m\u001b[43m[\u001b[49m\u001b[43mi\u001b[49m\u001b[43m \u001b[49m\u001b[38;5;241;43m-\u001b[39;49m\u001b[43m \u001b[49m\u001b[43mstart\u001b[49m\u001b[43m]\u001b[49m \u001b[38;5;241m=\u001b[39m \u001b[38;5;28mself\u001b[39m[i]\n\u001b[0;32m     56\u001b[0m \u001b[38;5;28;01mreturn\u001b[39;00m sliced\n",
      "\u001b[1;31mIndexError\u001b[0m: index 0 is out of bounds for axis 0 with size 0"
     ]
    }
   ],
   "source": [
    "start_time = time.time()\n",
    "_ = rw_analysis.compute_neighbourhood_dominance_features()\n",
    "end_time = time.time()\n",
    "print(f\"RW neighbourhood dominance features took {end_time - start_time:.2f} seconds.\")"
   ]
  },
  {
   "cell_type": "code",
   "execution_count": 42,
   "metadata": {},
   "outputs": [
    {
     "name": "stdout",
     "output_type": "stream",
     "text": [
      "RW IC features took 0.29 seconds.\n"
     ]
    }
   ],
   "source": [
    "start_time = time.time()\n",
    "_ = GlobalAnalysis.compute_ic_features(rw_analysis.pop_walk, sample_type=\"rw\")\n",
    "end_time = time.time()\n",
    "print(f\"RW IC features took {end_time - start_time:.2f} seconds.\")"
   ]
  },
  {
   "cell_type": "markdown",
   "metadata": {},
   "source": [
    "### Global\n"
   ]
  },
  {
   "cell_type": "code",
   "execution_count": 10,
   "metadata": {},
   "outputs": [
    {
     "name": "stdout",
     "output_type": "stream",
     "text": [
      "Total evaluation time: 47.82 seconds, Sample size: 10000\n",
      "Time to save with pickle: 0.12 seconds\n",
      "Time to save with numpy: 0.14 seconds\n"
     ]
    }
   ],
   "source": [
    "import time\n",
    "import pickle\n",
    "import numpy as np\n",
    "import os\n",
    "\n",
    "# Assuming pre_sampler, evaluator, and problem are already defined\n",
    "# and generate_global_population method returns pop_global as a numpy array or a list that can be converted to a numpy array\n",
    "\n",
    "# Generate distributed samples and evaluate populations on these samples.\n",
    "sample = pre_sampler.read_global_sample(5)\n",
    "start_time = time.time()\n",
    "pop_global = evaluator.generate_global_population(problem, sample, eval_fronts=False)\n",
    "end_time = time.time()\n",
    "\n",
    "evaluation_time = end_time - start_time  # Calculate total evaluation time in seconds\n",
    "print(\n",
    "    f\"Total evaluation time: {evaluation_time:.2f} seconds, Sample size: {len(pop_global)}\"\n",
    ")\n",
    "\n",
    "# Save with pickle\n",
    "pickle_start_time = time.time()\n",
    "with open(\"pop_global.pkl\", \"wb\") as file:\n",
    "    pickle.dump(pop_global, file)\n",
    "pickle_end_time = time.time()\n",
    "pickle_time = pickle_end_time - pickle_start_time\n",
    "\n",
    "# Save with numpy\n",
    "numpy_start_time = time.time()\n",
    "np.save(\"pop_global.npy\", pop_global)\n",
    "numpy_end_time = time.time()\n",
    "numpy_time = numpy_end_time - numpy_start_time\n",
    "\n",
    "print(f\"Time to save with pickle: {pickle_time:.2f} seconds\")\n",
    "print(f\"Time to save with numpy: {numpy_time:.2f} seconds\")"
   ]
  },
  {
   "cell_type": "code",
   "execution_count": 12,
   "metadata": {},
   "outputs": [
    {
     "name": "stdout",
     "output_type": "stream",
     "text": [
      "Time to read with pickle: 0.13 seconds\n"
     ]
    }
   ],
   "source": [
    "import time\n",
    "import pickle\n",
    "import numpy as np\n",
    "\n",
    "# Read with pickle\n",
    "pickle_read_start_time = time.time()\n",
    "with open(\"pop_global.pkl\", \"rb\") as file:\n",
    "    pop_global_pickle = pickle.load(file)\n",
    "pickle_read_end_time = time.time()\n",
    "pickle_read_time = pickle_read_end_time - pickle_read_start_time\n",
    "\n",
    "print(f\"Time to read with pickle: {pickle_read_time:.2f} seconds\")"
   ]
  },
  {
   "cell_type": "code",
   "execution_count": null,
   "metadata": {},
   "outputs": [
    {
     "name": "stdout",
     "output_type": "stream",
     "text": [
      "Computed IC features in 3.93 seconds. Sample size: 10000.\n"
     ]
    }
   ],
   "source": [
    "# IC features\n",
    "start_ic_time = time.time()\n",
    "\n",
    "# Compute IC features\n",
    "(H_max, eps_s, m0, eps05) = compute_ic_features(pop_global)\n",
    "\n",
    "# End time for computing IC features\n",
    "end_ic_time = time.time()\n",
    "\n",
    "# Calculate the computation time\n",
    "ic_computation_time = end_ic_time - start_ic_time\n",
    "\n",
    "# Get the size of pop_global\n",
    "sample_size = len(pop_global)\n",
    "\n",
    "# Print the descriptive message\n",
    "print(\n",
    "    f\"Computed IC features in {ic_computation_time:.2f} seconds. Sample size: {sample_size}.\"\n",
    ")"
   ]
  }
 ],
 "metadata": {
  "kernelspec": {
   "display_name": "thesis_env_windows",
   "language": "python",
   "name": "python3"
  },
  "language_info": {
   "codemirror_mode": {
    "name": "ipython",
    "version": 3
   },
   "file_extension": ".py",
   "mimetype": "text/x-python",
   "name": "python",
   "nbconvert_exporter": "python",
   "pygments_lexer": "ipython3",
   "version": "3.8.17"
  }
 },
 "nbformat": 4,
 "nbformat_minor": 2
}
