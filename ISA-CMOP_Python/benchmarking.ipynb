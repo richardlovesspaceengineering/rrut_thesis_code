{
 "cells": [
  {
   "cell_type": "code",
   "execution_count": 1,
   "metadata": {},
   "outputs": [],
   "source": [
    "%load_ext autoreload\n",
    "%autoreload 2\n",
    "\n",
    "from ProblemEvaluator import ProblemEvaluator\n",
    "import numpy as np\n",
    "from pymoo.problems import get_problem\n",
    "import matplotlib.pyplot as plt\n",
    "from optimisation.model.population import Population\n",
    "from features.RandomWalkAnalysis import RandomWalkAnalysis\n",
    "from features.GlobalAnalysis import GlobalAnalysis\n",
    "import time"
   ]
  },
  {
   "cell_type": "code",
   "execution_count": 2,
   "metadata": {},
   "outputs": [
    {
     "name": "stdout",
     "output_type": "stream",
     "text": [
      "Initialising evaluator in eval mode.\n",
      "Starting the creation process for population directories for problem: MW12_d3 in mode: eval\n",
      "Directory already exists and does not need to be created: test_pops\\MW12_d3\\eval\\global\n",
      "Directory already exists and does not need to be created: test_pops\\MW12_d3\\eval\\rw\n",
      "Population directories setup complete.\n",
      "Global population directory: test_pops\\MW12_d3\\eval\\global\n",
      "RW population directory: test_pops\\MW12_d3\\eval\\rw\n"
     ]
    }
   ],
   "source": [
    "# Flags for which feature set we want to test.\n",
    "sample_rw = True\n",
    "sample_aw = False\n",
    "\n",
    "# Example problem.\n",
    "num_samples = 1\n",
    "num_cores = 1\n",
    "n_var = 3\n",
    "problem_name = \"MW12\"\n",
    "problem = get_problem(problem_name, n_var)\n",
    "instance_string = f\"{problem_name}_d{n_var}\"\n",
    "\n",
    "# Generate evaluator which can generate RW samples and LHS samples.\n",
    "evaluator = ProblemEvaluator(\n",
    "    problem, instance_string, \"eval\", \"test_results\", num_cores, num_samples\n",
    ")\n",
    "evaluator.initialize_number_of_cores()\n",
    "pre_sampler = evaluator.create_pre_sampler()\n",
    "pre_sampler.create_pregen_sample_dir()\n",
    "pre_sampler.create_pops_dir(instance_string, \"test_pops\")"
   ]
  },
  {
   "cell_type": "markdown",
   "metadata": {},
   "source": [
    "### Random Walk\n"
   ]
  },
  {
   "cell_type": "code",
   "execution_count": 3,
   "metadata": {},
   "outputs": [
    {
     "name": "stdout",
     "output_type": "stream",
     "text": [
      "Reading walk neighbours took 0.00 seconds.\n"
     ]
    }
   ],
   "source": [
    "sample_number = 1\n",
    "walk_number = 1\n",
    "\n",
    "import time  # Import the time module\n",
    "\n",
    "# Start timing for reading walk neighbours\n",
    "start_time = time.time()\n",
    "walk, neighbours = pre_sampler.read_walk_neighbours(sample_number, walk_number)\n",
    "end_time = time.time()\n",
    "print(f\"Reading walk neighbours took {end_time - start_time:.2f} seconds.\")\n",
    "\n",
    "# Start timing for generating walk neighbour populations"
   ]
  },
  {
   "cell_type": "code",
   "execution_count": 4,
   "metadata": {},
   "outputs": [
    {
     "name": "stdout",
     "output_type": "stream",
     "text": [
      "Generating walk neighbour populations took 2.84 seconds.\n"
     ]
    }
   ],
   "source": [
    "start_time = time.time()\n",
    "pop_walk, pop_neighbours_list = evaluator.generate_walk_neig_populations(\n",
    "    problem, walk, neighbours, True\n",
    ")\n",
    "end_time = time.time()\n",
    "print(\n",
    "    f\"Generating walk neighbour populations took {end_time - start_time:.2f} seconds.\"\n",
    ")"
   ]
  },
  {
   "cell_type": "code",
   "execution_count": 9,
   "metadata": {},
   "outputs": [
    {
     "name": "stdout",
     "output_type": "stream",
     "text": [
      "24128\n"
     ]
    }
   ],
   "source": [
    "import sys\n",
    "\n",
    "print(sys.getsizeof(pop_walk.extract_var()))"
   ]
  },
  {
   "cell_type": "code",
   "execution_count": null,
   "metadata": {},
   "outputs": [],
   "source": [
    "# Start timing for saving walk neighbour population\n",
    "start_time = time.time()\n",
    "pre_sampler.save_walk_neig_population(\n",
    "    pop_walk, pop_neighbours_list, sample_number, walk_number\n",
    ")\n",
    "end_time = time.time()\n",
    "print(\n",
    "    f\"Saving walk neighbour population (new method) took {end_time - start_time:.2f} seconds.\"\n",
    ")"
   ]
  },
  {
   "cell_type": "code",
   "execution_count": null,
   "metadata": {},
   "outputs": [],
   "source": [
    "# Attempt to use pre-generated samples.\n",
    "start_time = time.time()\n",
    "pop_walk, pop_neighbours_list = pre_sampler.load_walk_neig_population(\n",
    "    sample_number, walk_number\n",
    ")\n",
    "end_time = time.time()\n",
    "print(\n",
    "    f\"Loading walk neighbour population (new method) took {end_time - start_time:.2f} seconds.\"\n",
    ")"
   ]
  },
  {
   "cell_type": "markdown",
   "metadata": {},
   "source": [
    "#### Analysis Object Creation\n"
   ]
  },
  {
   "cell_type": "code",
   "execution_count": null,
   "metadata": {},
   "outputs": [],
   "source": [
    "rw_norm_values = evaluator.compute_rw_normalisation_values(pre_sampler, problem)\n",
    "rw_analysis = RandomWalkAnalysis(\n",
    "    pop_walk, pop_neighbours_list, rw_norm_values, evaluator.results_dir\n",
    ")"
   ]
  },
  {
   "cell_type": "markdown",
   "metadata": {},
   "source": [
    "#### Running each step of RW feature eval\n"
   ]
  },
  {
   "cell_type": "code",
   "execution_count": null,
   "metadata": {},
   "outputs": [],
   "source": [
    "start_time = time.time()\n",
    "rw_analysis.preprocess_nans_on_walks()\n",
    "end_time = time.time()\n",
    "print(f\"Preprocessing nans on walks took {end_time - start_time:.2f} seconds.\")"
   ]
  },
  {
   "cell_type": "code",
   "execution_count": null,
   "metadata": {},
   "outputs": [],
   "source": [
    "# Timing each of the features eval\n",
    "start_time = time.time()\n",
    "_ = rw_analysis.compute_solver_related_features()\n",
    "end_time = time.time()\n",
    "print(f\"RW solver features took {end_time - start_time:.2f} seconds.\")"
   ]
  },
  {
   "cell_type": "code",
   "execution_count": null,
   "metadata": {},
   "outputs": [],
   "source": [
    "start_time = time.time()\n",
    "_ = rw_analysis.compute_neighbourhood_distance_features(norm_method=\"95th\")\n",
    "end_time = time.time()\n",
    "print(f\"RW neighbourhood dist features took {end_time - start_time:.2f} seconds.\")"
   ]
  },
  {
   "cell_type": "code",
   "execution_count": null,
   "metadata": {},
   "outputs": [],
   "source": [
    "start_time = time.time()\n",
    "_ = rw_analysis.compute_uncons_neighbourhood_hv_features(norm_method=\"95th\")\n",
    "end_time = time.time()\n",
    "print(f\"RW uncons neighbourhood HV features took {end_time - start_time:.2f} seconds.\")"
   ]
  },
  {
   "cell_type": "code",
   "execution_count": null,
   "metadata": {},
   "outputs": [],
   "source": [
    "start_time = time.time()\n",
    "_ = rw_analysis.compute_cons_neighbourhood_hv_features(norm_method=\"95th\")\n",
    "end_time = time.time()\n",
    "print(f\"RW cons neighbourhood HV features took {end_time - start_time:.2f} seconds.\")"
   ]
  },
  {
   "cell_type": "code",
   "execution_count": null,
   "metadata": {},
   "outputs": [],
   "source": [
    "start_time = time.time()\n",
    "_ = rw_analysis.compute_neighbourhood_violation_features(norm_method=\"95th\")\n",
    "end_time = time.time()\n",
    "print(f\"RW neighbourhood violation features took {end_time - start_time:.2f} seconds.\")"
   ]
  },
  {
   "cell_type": "code",
   "execution_count": null,
   "metadata": {},
   "outputs": [],
   "source": [
    "start_time = time.time()\n",
    "_ = rw_analysis.compute_neighbourhood_dominance_features()\n",
    "end_time = time.time()\n",
    "print(f\"RW neighbourhood dominance features took {end_time - start_time:.2f} seconds.\")"
   ]
  },
  {
   "cell_type": "code",
   "execution_count": null,
   "metadata": {},
   "outputs": [],
   "source": [
    "start_time = time.time()\n",
    "_ = GlobalAnalysis.compute_ic_features(rw_analysis.pop_walk, sample_type=\"rw\")\n",
    "end_time = time.time()\n",
    "print(f\"RW IC features took {end_time - start_time:.2f} seconds.\")"
   ]
  },
  {
   "cell_type": "markdown",
   "metadata": {},
   "source": [
    "### Global\n"
   ]
  },
  {
   "cell_type": "code",
   "execution_count": null,
   "metadata": {},
   "outputs": [],
   "source": [
    "sample_number = 1\n",
    "# Start timing for reading walk neighbours\n",
    "start_time = time.time()\n",
    "global_sample = pre_sampler.read_global_sample(sample_number)\n",
    "end_time = time.time()\n",
    "print(f\"Reading global sample took {end_time - start_time:.2f} seconds.\")"
   ]
  },
  {
   "cell_type": "code",
   "execution_count": null,
   "metadata": {},
   "outputs": [],
   "source": [
    "start_time = time.time()\n",
    "pop_global = evaluator.generate_global_population(problem, global_sample, True)\n",
    "end_time = time.time()\n",
    "print(f\"Generating global populations took {end_time - start_time:.2f} seconds.\")"
   ]
  },
  {
   "cell_type": "code",
   "execution_count": null,
   "metadata": {},
   "outputs": [],
   "source": [
    "# Start timing for saving walk neighbour population\n",
    "start_time = time.time()\n",
    "pre_sampler.save_global_population(pop_global, sample_number)\n",
    "end_time = time.time()\n",
    "print(\n",
    "    f\"Saving global population (new method) took {end_time - start_time:.2f} seconds.\"\n",
    ")"
   ]
  },
  {
   "cell_type": "code",
   "execution_count": null,
   "metadata": {},
   "outputs": [],
   "source": [
    "# Attempt to use pre-generated samples.\n",
    "start_time = time.time()\n",
    "pop_global = pre_sampler.load_global_population(sample_number)\n",
    "end_time = time.time()\n",
    "print(\n",
    "    f\"Loading global population (new method) took {end_time - start_time:.2f} seconds.\"\n",
    ")"
   ]
  },
  {
   "cell_type": "markdown",
   "metadata": {},
   "source": [
    "#### Analysis Object Creation\n"
   ]
  },
  {
   "cell_type": "code",
   "execution_count": null,
   "metadata": {},
   "outputs": [],
   "source": [
    "global_norm_values = evaluator.compute_global_normalisation_values(pre_sampler, problem)\n",
    "global_analysis = GlobalAnalysis(pop_global, global_norm_values, evaluator.results_dir)"
   ]
  },
  {
   "cell_type": "code",
   "execution_count": null,
   "metadata": {},
   "outputs": [],
   "source": [
    "print(global_analysis.pop.extract_var().shape)\n",
    "print(global_analysis.pop.extract_obj().shape)\n",
    "print(global_analysis.pop.extract_rank().shape)\n",
    "print(global_analysis.pop.extract_uncons_rank().shape)\n",
    "print(global_analysis.pop.extract_cv().shape)\n",
    "print(global_analysis.pop.extract_cons().shape)"
   ]
  },
  {
   "cell_type": "markdown",
   "metadata": {},
   "source": [
    "#### Running each step of Global feature eval\n"
   ]
  },
  {
   "cell_type": "code",
   "execution_count": null,
   "metadata": {},
   "outputs": [],
   "source": [
    "from features.Analysis import Analysis\n",
    "\n",
    "global_analysis.pop, _ = global_analysis.pop.remove_nan_inf_rows(\n",
    "    \"global\", re_evaluate=True\n",
    ")"
   ]
  },
  {
   "cell_type": "code",
   "execution_count": null,
   "metadata": {},
   "outputs": [],
   "source": [
    "start_time = time.time()\n",
    "_ = global_analysis.compute_fsr()\n",
    "end_time = time.time()\n",
    "print(f\"Global feasibility features took {end_time - start_time:.2f} seconds.\")"
   ]
  },
  {
   "cell_type": "code",
   "execution_count": null,
   "metadata": {},
   "outputs": [],
   "source": [
    "start_time = time.time()\n",
    "_ = global_analysis.corr_obj()\n",
    "end_time = time.time()\n",
    "print(f\"Global obj corr features took {end_time - start_time:.2f} seconds.\")"
   ]
  },
  {
   "cell_type": "code",
   "execution_count": null,
   "metadata": {},
   "outputs": [],
   "source": [
    "start_time = time.time()\n",
    "_ = global_analysis.obj_kurt()\n",
    "_ = global_analysis.obj_skew()\n",
    "end_time = time.time()\n",
    "print(f\"Global obj skew, kurtosis features took {end_time - start_time:.2f} seconds.\")"
   ]
  },
  {
   "cell_type": "code",
   "execution_count": null,
   "metadata": {},
   "outputs": [],
   "source": [
    "start_time = time.time()\n",
    "_ = global_analysis.uc_rk_distr()\n",
    "end_time = time.time()\n",
    "print(f\"Global uc rk distr features took {end_time - start_time:.2f} seconds.\")"
   ]
  },
  {
   "cell_type": "code",
   "execution_count": null,
   "metadata": {},
   "outputs": [],
   "source": [
    "start_time = time.time()\n",
    "_ = global_analysis.cv_distr(norm_method=\"95th\")\n",
    "end_time = time.time()\n",
    "print(f\"Global cv distr features took {end_time - start_time:.2f} seconds.\")"
   ]
  },
  {
   "cell_type": "code",
   "execution_count": null,
   "metadata": {},
   "outputs": [],
   "source": [
    "start_time = time.time()\n",
    "_ = global_analysis.PiIZ()\n",
    "end_time = time.time()\n",
    "print(f\"Global ideal zone features took {end_time - start_time:.2f} seconds.\")"
   ]
  },
  {
   "cell_type": "code",
   "execution_count": null,
   "metadata": {},
   "outputs": [],
   "source": [
    "start_time = time.time()\n",
    "_ = global_analysis.compute_ps_pf_distances(norm_method=\"95th\")\n",
    "end_time = time.time()\n",
    "print(f\"Global PS PF distance features took {end_time - start_time:.2f} seconds.\")"
   ]
  },
  {
   "cell_type": "code",
   "execution_count": null,
   "metadata": {},
   "outputs": [],
   "source": [
    "start_time = time.time()\n",
    "_ = global_analysis.compute_PF_UPF_features(norm_method=\"95th\")\n",
    "end_time = time.time()\n",
    "print(f\"Global PF UPF features took {end_time - start_time:.2f} seconds.\")"
   ]
  },
  {
   "cell_type": "code",
   "execution_count": null,
   "metadata": {},
   "outputs": [],
   "source": [
    "start_time = time.time()\n",
    "_ = global_analysis.dist_corr()\n",
    "end_time = time.time()\n",
    "print(f\"Global dist corr features took {end_time - start_time:.2f} seconds.\")"
   ]
  },
  {
   "cell_type": "code",
   "execution_count": null,
   "metadata": {},
   "outputs": [],
   "source": [
    "start_time = time.time()\n",
    "_ = global_analysis.compute_ranks_cv_corr()\n",
    "end_time = time.time()\n",
    "print(f\"Global ranks cv corr features took {end_time - start_time:.2f} seconds.\")"
   ]
  },
  {
   "cell_type": "code",
   "execution_count": null,
   "metadata": {},
   "outputs": [],
   "source": [
    "start_time = time.time()\n",
    "_ = global_analysis.rk_uc_var_mdl()\n",
    "end_time = time.time()\n",
    "print(f\"Global rk uc var mdl features took {end_time - start_time:.2f} seconds.\")"
   ]
  },
  {
   "cell_type": "code",
   "execution_count": null,
   "metadata": {},
   "outputs": [],
   "source": [
    "start_time = time.time()\n",
    "_ = global_analysis.cv_var_mdl()\n",
    "end_time = time.time()\n",
    "print(f\"Global cv var mdl features took {end_time - start_time:.2f} seconds.\")"
   ]
  },
  {
   "cell_type": "code",
   "execution_count": null,
   "metadata": {},
   "outputs": [],
   "source": [
    "start_time = time.time()\n",
    "_ = GlobalAnalysis.compute_ic_features(global_analysis.pop, sample_type=\"global\")\n",
    "end_time = time.time()\n",
    "print(f\"Global IC features took {end_time - start_time:.2f} seconds.\")"
   ]
  }
 ],
 "metadata": {
  "kernelspec": {
   "display_name": "thesis_env_windows",
   "language": "python",
   "name": "python3"
  },
  "language_info": {
   "codemirror_mode": {
    "name": "ipython",
    "version": 3
   },
   "file_extension": ".py",
   "mimetype": "text/x-python",
   "name": "python",
   "nbconvert_exporter": "python",
   "pygments_lexer": "ipython3",
   "version": "3.8.17"
  }
 },
 "nbformat": 4,
 "nbformat_minor": 2
}
