{
 "cells": [
  {
   "cell_type": "markdown",
   "metadata": {},
   "source": [
    "## Loading all packages"
   ]
  },
  {
   "cell_type": "code",
   "execution_count": 2,
   "metadata": {},
   "outputs": [
    {
     "name": "stdout",
     "output_type": "stream",
     "text": [
      "The autoreload extension is already loaded. To reload it, use:\n",
      "  %reload_ext autoreload\n"
     ]
    }
   ],
   "source": [
    "# Reload all modules\n",
    "%load_ext autoreload\n",
    "%autoreload 2\n",
    "\n",
    "# Other package imports\n",
    "import pickle\n",
    "import pandas as pd\n",
    "import matplotlib.pyplot as plt\n",
    "import seaborn as sns\n",
    "\n",
    "# User packages.\n",
    "from features.FitnessAnalysis import MultipleFitnessAnalysis\n",
    "from features.RandomWalkAnalysis import MultipleRandomWalkAnalysis\n",
    "from features.LandscapeAnalysis import LandscapeAnalysis\n",
    "\n",
    "from cases.MW_setup import MW3, MW7\n",
    "import numpy as np\n",
    "from optimisation.model.population import Population\n",
    "from sampling.RandomWalk import RandomWalk\n",
    "import pickle"
   ]
  },
  {
   "cell_type": "markdown",
   "metadata": {},
   "source": [
    "## Evaluating populations"
   ]
  },
  {
   "cell_type": "code",
   "execution_count": 3,
   "metadata": {},
   "outputs": [
    {
     "ename": "AttributeError",
     "evalue": "'MW7' object has no attribute 'n_var'",
     "output_type": "error",
     "traceback": [
      "\u001b[1;31m---------------------------------------------------------------------------\u001b[0m",
      "\u001b[1;31mAttributeError\u001b[0m                            Traceback (most recent call last)",
      "\u001b[1;32md:\\richa\\Documents\\Thesis\\rrut_thesis_code\\ISA-CMOP_Python\\runner.ipynb Cell 4\u001b[0m line \u001b[0;36m2\n\u001b[0;32m     <a href='vscode-notebook-cell:/d%3A/richa/Documents/Thesis/rrut_thesis_code/ISA-CMOP_Python/runner.ipynb#W3sZmlsZQ%3D%3D?line=22'>23</a>\u001b[0m \u001b[39m# Generate neighbours.\u001b[39;00m\n\u001b[0;32m     <a href='vscode-notebook-cell:/d%3A/richa/Documents/Thesis/rrut_thesis_code/ISA-CMOP_Python/runner.ipynb#W3sZmlsZQ%3D%3D?line=23'>24</a>\u001b[0m new_walk \u001b[39m=\u001b[39m rw\u001b[39m.\u001b[39mgenerate_neighbours_for_walk(walk, neighbourhood_size)\n\u001b[1;32m---> <a href='vscode-notebook-cell:/d%3A/richa/Documents/Thesis/rrut_thesis_code/ISA-CMOP_Python/runner.ipynb#W3sZmlsZQ%3D%3D?line=25'>26</a>\u001b[0m pop \u001b[39m=\u001b[39m Population(problem, n_individuals\u001b[39m=\u001b[39;49mnum_steps)\n\u001b[0;32m     <a href='vscode-notebook-cell:/d%3A/richa/Documents/Thesis/rrut_thesis_code/ISA-CMOP_Python/runner.ipynb#W3sZmlsZQ%3D%3D?line=26'>27</a>\u001b[0m pop\u001b[39m.\u001b[39mevaluate(new_walk)\n\u001b[0;32m     <a href='vscode-notebook-cell:/d%3A/richa/Documents/Thesis/rrut_thesis_code/ISA-CMOP_Python/runner.ipynb#W3sZmlsZQ%3D%3D?line=27'>28</a>\u001b[0m \u001b[39mprint\u001b[39m(\n\u001b[0;32m     <a href='vscode-notebook-cell:/d%3A/richa/Documents/Thesis/rrut_thesis_code/ISA-CMOP_Python/runner.ipynb#W3sZmlsZQ%3D%3D?line=28'>29</a>\u001b[0m     \u001b[39m\"\u001b[39m\u001b[39mEvaluated rank and crowding for RW population \u001b[39m\u001b[39m{}\u001b[39;00m\u001b[39m of \u001b[39m\u001b[39m{}\u001b[39;00m\u001b[39m\"\u001b[39m\u001b[39m.\u001b[39mformat(\n\u001b[0;32m     <a href='vscode-notebook-cell:/d%3A/richa/Documents/Thesis/rrut_thesis_code/ISA-CMOP_Python/runner.ipynb#W3sZmlsZQ%3D%3D?line=29'>30</a>\u001b[0m         ctr \u001b[39m+\u001b[39m \u001b[39m1\u001b[39m, num_samples\n\u001b[0;32m     <a href='vscode-notebook-cell:/d%3A/richa/Documents/Thesis/rrut_thesis_code/ISA-CMOP_Python/runner.ipynb#W3sZmlsZQ%3D%3D?line=30'>31</a>\u001b[0m     )\n\u001b[0;32m     <a href='vscode-notebook-cell:/d%3A/richa/Documents/Thesis/rrut_thesis_code/ISA-CMOP_Python/runner.ipynb#W3sZmlsZQ%3D%3D?line=31'>32</a>\u001b[0m )\n",
      "File \u001b[1;32md:\\richa\\Documents\\Thesis\\rrut_thesis_code\\ISA-CMOP_Python\\optimisation\\model\\population.py:17\u001b[0m, in \u001b[0;36mPopulation.__new__\u001b[1;34m(cls, problem, n_individuals)\u001b[0m\n\u001b[0;32m     15\u001b[0m obj \u001b[39m=\u001b[39m \u001b[39msuper\u001b[39m(Population, \u001b[39mcls\u001b[39m)\u001b[39m.\u001b[39m\u001b[39m__new__\u001b[39m(\u001b[39mcls\u001b[39m, n_individuals, dtype\u001b[39m=\u001b[39m\u001b[39mcls\u001b[39m)\u001b[39m.\u001b[39mview(\u001b[39mcls\u001b[39m)\n\u001b[0;32m     16\u001b[0m \u001b[39mfor\u001b[39;00m i \u001b[39min\u001b[39;00m \u001b[39mrange\u001b[39m(n_individuals):\n\u001b[1;32m---> 17\u001b[0m     obj[i] \u001b[39m=\u001b[39m Individual(problem)\n\u001b[0;32m     19\u001b[0m \u001b[39mreturn\u001b[39;00m obj\n",
      "File \u001b[1;32md:\\richa\\Documents\\Thesis\\rrut_thesis_code\\ISA-CMOP_Python\\optimisation\\model\\individual.py:15\u001b[0m, in \u001b[0;36mIndividual.__init__\u001b[1;34m(self, problem)\u001b[0m\n\u001b[0;32m     13\u001b[0m \u001b[39m# Problem characteristics. Updated to work with pymoo.\u001b[39;00m\n\u001b[0;32m     14\u001b[0m \u001b[39mself\u001b[39m\u001b[39m.\u001b[39mproblem \u001b[39m=\u001b[39m problem\n\u001b[1;32m---> 15\u001b[0m \u001b[39mself\u001b[39m\u001b[39m.\u001b[39mn_var \u001b[39m=\u001b[39m problem\u001b[39m.\u001b[39;49mn_var\n\u001b[0;32m     16\u001b[0m \u001b[39mself\u001b[39m\u001b[39m.\u001b[39mn_obj \u001b[39m=\u001b[39m problem\u001b[39m.\u001b[39mn_obj\n\u001b[0;32m     17\u001b[0m \u001b[39mself\u001b[39m\u001b[39m.\u001b[39mn_cons \u001b[39m=\u001b[39m problem\u001b[39m.\u001b[39mn_ieq_constr\n",
      "\u001b[1;31mAttributeError\u001b[0m: 'MW7' object has no attribute 'n_var'"
     ]
    }
   ],
   "source": [
    "problem = MW7(n_dim=5)  # use default dimensionality.\n",
    "n_variables = problem.dim\n",
    "\n",
    "# Experimental setup of Alsouly\n",
    "neighbourhood_size = 2 * n_variables + 1\n",
    "num_steps = int(n_variables / neighbourhood_size * 10**3)\n",
    "step_size = 0.2  # 2% of the range of the instance domain\n",
    "\n",
    "# Bounds of the decision variables.\n",
    "x_lower = problem.lb\n",
    "x_upper = problem.ub\n",
    "bounds = np.vstack((x_lower, x_upper))\n",
    "\n",
    "num_samples = 30\n",
    "\n",
    "# Run feature eval multiple times.\n",
    "pops = []\n",
    "rw = RandomWalk(bounds, num_steps, step_size)\n",
    "for ctr in range(num_samples):\n",
    "    # Simulate RW\n",
    "    walk = rw._do(seed=ctr)\n",
    "\n",
    "    # Generate neighbours.\n",
    "    new_walk = rw.generate_neighbours_for_walk(walk, neighbourhood_size)\n",
    "\n",
    "    pop = Population(problem, n_individuals=num_steps)\n",
    "    pop.evaluate(new_walk)\n",
    "    print(\n",
    "        \"Evaluated rank and crowding for RW population {} of {}\".format(\n",
    "            ctr + 1, num_samples\n",
    "        )\n",
    "    )\n",
    "    pops.append(pop)\n",
    "\n",
    "# Saving results to pickle file.\n",
    "with open(\"data/{}_d2_pop_data.pkl\".format(problem.problem_name), \"wb\") as outp:\n",
    "    pickle.dump(pops, outp, -1)"
   ]
  },
  {
   "cell_type": "markdown",
   "metadata": {},
   "source": [
    "## Evaluating features over all populations"
   ]
  },
  {
   "cell_type": "code",
   "execution_count": null,
   "metadata": {},
   "outputs": [],
   "source": [
    "# Reload all modules\n",
    "%load_ext autoreload\n",
    "%autoreload 2\n",
    "\n",
    "# Loading results from pickle file.\n",
    "with open(\"data/MW7_d2_pop_data.pkl\", \"rb\") as inp:\n",
    "    pops = pickle.load(inp)\n",
    "\n",
    "\n",
    "# Global features.\n",
    "global_features = MultipleFitnessAnalysis(pops)\n",
    "global_features.eval_features_for_all_populations()\n",
    "\n",
    "# Random walk features.\n",
    "rw_features = MultipleRandomWalkAnalysis(pops)\n",
    "rw_features.eval_features_for_all_populations()"
   ]
  },
  {
   "cell_type": "markdown",
   "metadata": {},
   "source": [
    "## Plotting decision variables, objectives"
   ]
  },
  {
   "cell_type": "code",
   "execution_count": null,
   "metadata": {},
   "outputs": [],
   "source": [
    "# # Plot objectives\n",
    "# # Create a 5x6 grid of subplots\n",
    "# fig, ax = plt.subplots(5, 6, figsize=(10, 10))\n",
    "# for i in range(5):\n",
    "#     for j in range(6):\n",
    "#         pop = pops[i + j]\n",
    "\n",
    "#         obj = pop.extract_obj()\n",
    "\n",
    "#         # Plot the objectives on the current subplot.\n",
    "#         ax[i, j].scatter(obj[:, 0], obj[:, 1], s=2, color=\"red\")\n",
    "\n",
    "# # Adjust subplot spacing\n",
    "# plt.tight_layout()\n",
    "\n",
    "# # Show the plot\n",
    "# plt.show()\n",
    "\n",
    "# # Plot decisions\n",
    "# # Create a 5x6 grid of subplots\n",
    "# fig, ax = plt.subplots(5, 6, figsize=(10, 10))\n",
    "# for i in range(5):\n",
    "#     for j in range(6):\n",
    "#         pop = pops[i + j]\n",
    "\n",
    "#         var = pop.extract_var()\n",
    "\n",
    "#         # Plot the varision vars on the current subplot.\n",
    "#         ax[i, j].scatter(var[:, 0], var[:, 1], s=2, color=\"green\")\n",
    "\n",
    "# # Adjust subplot spacing\n",
    "# plt.tight_layout()\n",
    "\n",
    "# # Show the plot\n",
    "# plt.show()\n",
    "\n",
    "# Plot the pairwise combinations of decision variables.\n",
    "pops[0].var_scatterplot_matrix()"
   ]
  },
  {
   "cell_type": "markdown",
   "metadata": {},
   "source": [
    "## Aggregating features"
   ]
  },
  {
   "cell_type": "code",
   "execution_count": null,
   "metadata": {},
   "outputs": [],
   "source": [
    "# Combine all features.\n",
    "landscape = LandscapeAnalysis(global_features, rw_features)\n",
    "landscape.extract_feature_arrays()\n",
    "landscape.aggregate_features(YJ_transform=False)\n",
    "landscape.extract_features_vector()\n",
    "landscape.map_features_to_instance_space()"
   ]
  },
  {
   "cell_type": "markdown",
   "metadata": {},
   "source": [
    "## Feature distributions"
   ]
  },
  {
   "cell_type": "code",
   "execution_count": null,
   "metadata": {},
   "outputs": [],
   "source": [
    "%autoreload 2\n",
    "landscape.plot_feature_histograms()\n",
    "landscape.plot_feature_violin_box_plots()"
   ]
  },
  {
   "cell_type": "markdown",
   "metadata": {},
   "source": [
    "## Comparison to Alsouly's results"
   ]
  },
  {
   "cell_type": "code",
   "execution_count": null,
   "metadata": {},
   "outputs": [],
   "source": [
    "# Saving results to pickle file.\n",
    "with open(\"data/MW3_landscape_data.pkl\", \"wb\") as outp:\n",
    "    pickle.dump(landscape, outp, -1)\n",
    "\n",
    "# Apply YJ transformation\n",
    "# landscape.aggregate_features(True)\n",
    "\n",
    "aggregated_table = landscape.make_aggregated_feature_table()\n",
    "unaggregated_global_table = landscape.make_unaggregated_global_feature_table()\n",
    "unaggregated_rw_table = landscape.make_unaggregated_rw_feature_table()\n",
    "\n",
    "alsouly_table = landscape.extract_experimental_results()\n",
    "\n",
    "landscape.aggregate_features(True)\n",
    "aggregated_YJ_table = landscape.make_aggregated_feature_table()\n",
    "\n",
    "\n",
    "comp_table = pd.concat(\n",
    "    [\n",
    "        alsouly_table.loc[:, alsouly_table.columns != \"feature_D\"],\n",
    "        aggregated_table,\n",
    "        aggregated_YJ_table,\n",
    "    ]\n",
    ")\n",
    "\n",
    "# Reset the index if needed\n",
    "comp_table.reset_index(drop=True, inplace=True)\n",
    "comp_table = comp_table.transpose()\n",
    "print(comp_table)"
   ]
  }
 ],
 "metadata": {
  "kernelspec": {
   "display_name": "thesis_env_windows",
   "language": "python",
   "name": "python3"
  },
  "language_info": {
   "codemirror_mode": {
    "name": "ipython",
    "version": 3
   },
   "file_extension": ".py",
   "mimetype": "text/x-python",
   "name": "python",
   "nbconvert_exporter": "python",
   "pygments_lexer": "ipython3",
   "version": "3.8.17"
  },
  "orig_nbformat": 4
 },
 "nbformat": 4,
 "nbformat_minor": 2
}
